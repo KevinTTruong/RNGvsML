{
  "nbformat": 4,
  "nbformat_minor": 0,
  "metadata": {
    "colab": {
      "provenance": [],
      "collapsed_sections": [
        "eyz8xAN8vZn0",
        "20dcPgLhIYXf"
      ],
      "authorship_tag": "ABX9TyNS7ZJPmhdA3fqtIZ1PnLV4",
      "include_colab_link": true
    },
    "kernelspec": {
      "name": "python3",
      "display_name": "Python 3"
    },
    "language_info": {
      "name": "python"
    }
  },
  "cells": [
    {
      "cell_type": "markdown",
      "metadata": {
        "id": "view-in-github",
        "colab_type": "text"
      },
      "source": [
        "<a href=\"https://colab.research.google.com/github/KevinTTruong/RNGvsML/blob/main/RNG_vs_ML.ipynb\" target=\"_parent\"><img src=\"https://colab.research.google.com/assets/colab-badge.svg\" alt=\"Open In Colab\"/></a>"
      ]
    },
    {
      "cell_type": "markdown",
      "source": [
        "#RNG vs Machine Learning (with Genshin Impact)"
      ],
      "metadata": {
        "id": "klcGfo2ajL38"
      }
    },
    {
      "cell_type": "markdown",
      "source": [
        "TODO:\n",
        "\n",
        "-TensorFlow "
      ],
      "metadata": {
        "id": "_jKZBNJItAZL"
      }
    },
    {
      "cell_type": "code",
      "source": [
        "import matplotlib.pyplot as plt\n",
        "import random\n",
        "import pandas as pd\n",
        "import numpy as np"
      ],
      "metadata": {
        "id": "nR_sKu_wwGUl"
      },
      "execution_count": null,
      "outputs": []
    },
    {
      "cell_type": "markdown",
      "source": [
        "## RNG Function"
      ],
      "metadata": {
        "id": "wIzFr5SrjTsr"
      }
    },
    {
      "cell_type": "markdown",
      "source": [
        "### Define contents of banner"
      ],
      "metadata": {
        "id": "lI5jwy0oliz4"
      }
    },
    {
      "cell_type": "code",
      "execution_count": null,
      "metadata": {
        "id": "hn3U-MP4ioD0"
      },
      "outputs": [],
      "source": [
        "promotional_char = [\"Featured 5*\"]\n",
        "featured_chars = [\"Featured 1\", \"Featured 2\", \"Featured 3\"]\n",
        "standard_5_star = [\"Keqing\", \"Mona\", \"Tighnari\", \"Qiqi\", \"Diluc\", \"Jean\"]\n",
        "standard_4_star_chars = [\"Barbara\", \"Beidou\", \"Bennett\", \"Candance\", \"Chongyun\", \"Collei\", \n",
        "                         \"Diona\", \"Dori\", \"Fischl\", \"Gorou\", \"Kujou Sara\", \"Kuki Shinobu\", \n",
        "                         \"Layla\" \"Ningguang\", \"Noelle\", \"Razor\", \"Rosaria\", \"Sayu\", \n",
        "                         \"Shikanoin Heizou\", \"Sucrose\", \"Xiangling\", \"Xingqiu\", \"Xinyan\", \n",
        "                         \"Yanfei\", \"Yun Jin\"]\n",
        "standard_4_star_weapons = [\"Dragon's Bane\", \"Eye of Preception\", \"Favonius Codex\", \n",
        "                           \"Favonius Greatsword\", \"Favonius Lance\", \"Favonius Sword\", \n",
        "                           \"Favonius Warbow\", \"Lion's Roar\", \"Rainslasher\", \"The Bell\", \n",
        "                           \"The Flute\", \"The Stringless\", \"The Widsith\", \"Rust\", \n",
        "                           \"Sacrificial Bow\", \"Sacrificial Fragments\", \"Sacrificial Greatesword\", \n",
        "                           \"Sacrificial Sword\"]\n",
        "standard_3_star_weapons = [\"Black Tassel\", \"Bloodtainted Greatsword\", \"Cool Steel\", \n",
        "                           \"Debate Club\", \"Emerald Orb\", \"Ferrous Shadow\", \"Harbinger of Dawn\", \n",
        "                           \"Magic Guide\", \"Raven Bow\", \"Sharpshooter's Oath\", \"Skyrider Sword\", \n",
        "                           \"Slingshot\", \"Thrilling Tales of Dragon Slayers\"]"
      ]
    },
    {
      "cell_type": "markdown",
      "source": [
        "### 5* Soft pity calculation"
      ],
      "metadata": {
        "id": "YP_ViS4gwaOF"
      }
    },
    {
      "cell_type": "markdown",
      "source": [
        "Pity formula based on statistical analysis\n",
        "\n",
        "Source: https://www.hoyolab.com/article/1927875"
      ],
      "metadata": {
        "id": "NgAKBkbbuM55"
      }
    },
    {
      "cell_type": "code",
      "source": [
        "soft_pity = 73\n",
        "p5 = 0.6\n",
        "k = (100-0.6)/(90-73)\n",
        "def five_star_chance(n):\n",
        "  if n <= soft_pity:\n",
        "    return p5\n",
        "  else:\n",
        "    return p5+k*(n-73)"
      ],
      "metadata": {
        "id": "b3XuvTlxmosl"
      },
      "execution_count": null,
      "outputs": []
    },
    {
      "cell_type": "markdown",
      "source": [
        "View chances"
      ],
      "metadata": {
        "id": "AOK28DOKwf-c"
      }
    },
    {
      "cell_type": "code",
      "source": [
        "for i in range(73,91):\n",
        "  print(str(i)+\": \"+str(five_star_chance(i)))"
      ],
      "metadata": {
        "colab": {
          "base_uri": "https://localhost:8080/"
        },
        "id": "Kvjh2UFVs3jF",
        "outputId": "c04619aa-1926-4737-e68c-9e11d6ec3675"
      },
      "execution_count": null,
      "outputs": [
        {
          "output_type": "stream",
          "name": "stdout",
          "text": [
            "73: 0.6\n",
            "74: 6.447058823529412\n",
            "75: 12.294117647058824\n",
            "76: 18.14117647058824\n",
            "77: 23.98823529411765\n",
            "78: 29.835294117647063\n",
            "79: 35.682352941176475\n",
            "80: 41.52941176470589\n",
            "81: 47.3764705882353\n",
            "82: 53.22352941176471\n",
            "83: 59.070588235294125\n",
            "84: 64.91764705882353\n",
            "85: 70.76470588235294\n",
            "86: 76.61176470588235\n",
            "87: 82.45882352941177\n",
            "88: 88.30588235294118\n",
            "89: 94.15294117647059\n",
            "90: 100.0\n"
          ]
        }
      ]
    },
    {
      "cell_type": "markdown",
      "source": [
        "Plot pity chance"
      ],
      "metadata": {
        "id": "8PjEzC4-wOtF"
      }
    },
    {
      "cell_type": "code",
      "source": [
        "x = list(range(1,91))\n",
        "y = []\n",
        "for i in range(1,91):\n",
        "  y.append(five_star_chance(i))\n",
        "\n",
        "plt.plot(x,y,'bo')"
      ],
      "metadata": {
        "colab": {
          "base_uri": "https://localhost:8080/",
          "height": 282
        },
        "id": "3Os7G9Tds_Ha",
        "outputId": "a488f14b-c1e3-41c2-db5c-4c83f0b63896"
      },
      "execution_count": null,
      "outputs": [
        {
          "output_type": "execute_result",
          "data": {
            "text/plain": [
              "[<matplotlib.lines.Line2D at 0x7f9fe1327890>]"
            ]
          },
          "metadata": {},
          "execution_count": 21
        },
        {
          "output_type": "display_data",
          "data": {
            "text/plain": [
              "<Figure size 432x288 with 1 Axes>"
            ],
            "image/png": "[encoded data removed]"
          },
          "metadata": {
            "needs_background": "light"
          }
        }
      ]
    },
    {
      "cell_type": "markdown",
      "source": [
        "### Define roll_rng()"
      ],
      "metadata": {
        "id": "rUdXrlKNHcqx"
      }
    },
    {
      "cell_type": "markdown",
      "source": [
        "\"5-Star Items\n",
        "For Event Wish: Base probability of winning 5-star characters = 0.6%: consolidated probability (incl. guarentee) = 1.6%: guarenteed to win 5-star character at least once per 90 attempts.\n",
        "The first time you win a 5-star in this event wish, there is a 50% chance it will be the promotional character. If the first 5-star character win in this event wish is not the promotional character, then the next 5-star character you win is guarenteed to be the promotional character\n",
        "\n",
        "4-Star Items\n",
        "For the Event Wish: Base probability of winning 4-star item = 5.1%: base probability of winning 4-star character = 2.55%, and base probability of winning 4-star weapon = 2.55%: consolidated probability (incl. guarentee) of winning 4-star item = 13%: guarenteed to win 4-star or above item at least once per 10 attempts: probability of winning 4-star item through guarantee = 99.4%, and probability of winning 5-star item through guarentee - 0.6%\n",
        "The first time you win a 4-star item in this event wish, there is a 50% chance it will be one of the featured characters. If the first 4-star item you win in this event wish is not one of the featured characters, then the next 4-star item you win is guarenteed to be the featured character. When you win a featured 4-star item, the probability of obtaining each featured 4-star character is equal between all of them.\""
      ],
      "metadata": {
        "id": "IyoVPAKpjUJW"
      }
    },
    {
      "cell_type": "code",
      "source": [
        "pity_count_5 = 0\n",
        "pity_count_4 = 0\n",
        "fail_5 = False\n",
        "fail_4 = False\n",
        "p4 = 510\n",
        "\n",
        "def roll_rng():\n",
        "  global pity_count_4\n",
        "  global pity_count_5 \n",
        "  global fail_5\n",
        "  global fail_4\n",
        "\n",
        "  pity_count_4 += 1\n",
        "  pity_count_5 += 1\n",
        "  #Roll 5*\n",
        "  roll = random.randrange(10000)\n",
        "  five_star_roll = five_star_chance(pity_count_5)*100\n",
        "  if roll < five_star_roll:\n",
        "    #Calculate 50/50 if win\n",
        "    save = pity_count_5\n",
        "    pity_count_5 = 0  #Reset pity\n",
        "    if fail_5 or random.randrange(2) == 1:  #50/50 won (5*)\n",
        "      fail_5 = False\n",
        "      return [save, \"Character\", promotional_char[0], pity_count_4, pity_count_5]\n",
        "    else:\n",
        "      char = standard_5_star[random.randrange(len(standard_5_star))]\n",
        "      fail_5 = True\n",
        "      return [save, \"Character\", char]\n",
        "  #Roll 4*\n",
        "  #4* pity or Win by rolling normally\n",
        "  elif pity_count_4 >= 10 or (five_star_roll <= roll and roll < five_star_roll+p4):\n",
        "    #Calculate 50/50\n",
        "    save = pity_count_4\n",
        "    pity_count_4 = 0  #Reset pity\n",
        "    if fail_4 or random.randrange(2) == 1: #Win 50/50 (4*)\n",
        "      fail_4 = False\n",
        "      return [save, \"Character\", featured_chars[random.randrange(len(featured_chars))], pity_count_4, pity_count_5]\n",
        "    else:\n",
        "      fail_4 = True\n",
        "      #Roll for either weapon or character (50/50)\n",
        "      if roll < five_star_roll+(p4/2):  #Win 4* character\n",
        "        char = standard_4_star_chars[random.randrange(len(standard_4_star_chars))]\n",
        "        while char in featured_chars: #Make sure character is NOT a feature 4* chars\n",
        "          char = standard_4_star_chars[random.randrange(len(standard_4_star_chars))]\n",
        "        return [save, \"Character\", char, pity_count_4, pity_count_5]\n",
        "      else: #five_star_roll+(p4/2) <= roll < five_star_roll+p4 ; Win 4* weapon\n",
        "        return [save, \"Weapon\", standard_4_star_weapons[random.randrange(len(standard_4_star_weapons))], pity_count_4, pity_count_5]\n",
        "  #Roll 3*\n",
        "  else:\n",
        "    return [1, \"Weapon\", standard_3_star_weapons[random.randrange(len(standard_3_star_weapons))], pity_count_4, pity_count_5]\n",
        "\n"
      ],
      "metadata": {
        "id": "86MRa-52ygFW"
      },
      "execution_count": null,
      "outputs": []
    },
    {
      "cell_type": "markdown",
      "source": [
        "### Reset helper"
      ],
      "metadata": {
        "id": "jktEYIwnHmuM"
      }
    },
    {
      "cell_type": "code",
      "source": [
        "def reset():\n",
        "  global pity_count_4\n",
        "  global pity_count_5 \n",
        "  global fail_5\n",
        "  global fail_4\n",
        "  \n",
        "  pity_count_5 = 0\n",
        "  pity_count_4 = 0\n",
        "  fail_5 = False\n",
        "  fail_4 = False"
      ],
      "metadata": {
        "id": "7q-R_pHlEdi1"
      },
      "execution_count": null,
      "outputs": []
    },
    {
      "cell_type": "markdown",
      "source": [
        "### Testing/QA"
      ],
      "metadata": {
        "id": "BdrqBjUmHKxo"
      }
    },
    {
      "cell_type": "markdown",
      "source": [
        "Testing\n",
        "\n",
        "-PASS Guarentee at 90 rolls\n",
        "\n",
        "-PASS standard_4_star_weapons[random.randrange(len(standard_4_star_weapons))]] and similar formula works as intended"
      ],
      "metadata": {
        "id": "6OvxiDKU5WsD"
      }
    },
    {
      "cell_type": "code",
      "source": [
        "for i in range(91):\n",
        "  print(roll_rng())\n",
        "reset()"
      ],
      "metadata": {
        "id": "0jvzn8Ps5XnA",
        "colab": {
          "base_uri": "https://localhost:8080/"
        },
        "outputId": "b52c6194-fa1d-458e-9575-5d8005afb825"
      },
      "execution_count": null,
      "outputs": [
        {
          "output_type": "stream",
          "name": "stdout",
          "text": [
            "[1, 'Weapon', 'Slingshot', 1, 1]\n",
            "[1, 'Weapon', 'Skyrider Sword', 2, 2]\n",
            "[1, 'Weapon', 'Harbinger of Dawn', 3, 3]\n",
            "[1, 'Weapon', 'Debate Club', 4, 4]\n",
            "[1, 'Weapon', 'Raven Bow', 5, 5]\n",
            "[1, 'Weapon', 'Ferrous Shadow', 6, 6]\n",
            "[1, 'Weapon', 'Cool Steel', 7, 7]\n",
            "[1, 'Weapon', 'Slingshot', 8, 8]\n",
            "[1, 'Weapon', 'Ferrous Shadow', 9, 9]\n",
            "[10, 'Weapon', 'The Stringless', 0, 10]\n",
            "[1, 'Weapon', 'Harbinger of Dawn', 1, 11]\n",
            "[1, 'Weapon', 'Slingshot', 2, 12]\n",
            "[1, 'Weapon', 'Skyrider Sword', 3, 13]\n",
            "[1, 'Weapon', 'Black Tassel', 4, 14]\n",
            "[1, 'Weapon', 'Ferrous Shadow', 5, 15]\n",
            "[1, 'Weapon', 'Bloodtainted Greatsword', 6, 16]\n",
            "[1, 'Weapon', 'Bloodtainted Greatsword', 7, 17]\n",
            "[1, 'Weapon', 'Emerald Orb', 8, 18]\n",
            "[1, 'Weapon', 'Magic Guide', 9, 19]\n",
            "[10, 'Character', 'Featured 2', 0, 20]\n",
            "[1, 'Weapon', 'Bloodtainted Greatsword', 1, 21]\n",
            "[2, 'Character', 'Noelle', 0, 22]\n",
            "[1, 'Weapon', 'Ferrous Shadow', 1, 23]\n",
            "[1, 'Weapon', 'Debate Club', 2, 24]\n",
            "[1, 'Weapon', 'Emerald Orb', 3, 25]\n",
            "[1, 'Weapon', 'Bloodtainted Greatsword', 4, 26]\n",
            "[1, 'Weapon', 'Harbinger of Dawn', 5, 27]\n",
            "[1, 'Weapon', 'Raven Bow', 6, 28]\n",
            "[1, 'Weapon', 'Bloodtainted Greatsword', 7, 29]\n",
            "[1, 'Weapon', \"Sharpshooter's Oath\", 8, 30]\n",
            "[1, 'Weapon', 'Emerald Orb', 9, 31]\n",
            "[10, 'Character', 'Featured 2', 0, 32]\n",
            "[1, 'Weapon', 'Skyrider Sword', 1, 33]\n",
            "[1, 'Weapon', 'Emerald Orb', 2, 34]\n",
            "[1, 'Weapon', 'Emerald Orb', 3, 35]\n",
            "[1, 'Weapon', 'Cool Steel', 4, 36]\n",
            "[1, 'Weapon', 'Black Tassel', 5, 37]\n",
            "[1, 'Weapon', 'Bloodtainted Greatsword', 6, 38]\n",
            "[1, 'Weapon', 'Black Tassel', 7, 39]\n",
            "[1, 'Weapon', \"Sharpshooter's Oath\", 8, 40]\n",
            "[41, 'Character', 'Jean']\n",
            "[10, 'Weapon', 'Favonius Codex', 0, 1]\n",
            "[1, 'Weapon', \"Sharpshooter's Oath\", 1, 2]\n",
            "[1, 'Weapon', 'Skyrider Sword', 2, 3]\n",
            "[1, 'Weapon', 'Skyrider Sword', 3, 4]\n",
            "[4, 'Character', 'Featured 2', 0, 5]\n",
            "[1, 'Character', 'Fischl', 0, 6]\n",
            "[1, 'Weapon', 'Bloodtainted Greatsword', 1, 7]\n",
            "[1, 'Weapon', 'Bloodtainted Greatsword', 2, 8]\n",
            "[1, 'Weapon', 'Slingshot', 3, 9]\n",
            "[4, 'Character', 'Featured 1', 0, 10]\n",
            "[1, 'Weapon', 'Ferrous Shadow', 1, 11]\n",
            "[1, 'Weapon', 'Ferrous Shadow', 2, 12]\n",
            "[1, 'Weapon', 'Thrilling Tales of Dragon Slayers', 3, 13]\n",
            "[1, 'Weapon', 'Emerald Orb', 4, 14]\n",
            "[1, 'Weapon', 'Raven Bow', 5, 15]\n",
            "[1, 'Weapon', 'Harbinger of Dawn', 6, 16]\n",
            "[1, 'Weapon', 'Emerald Orb', 7, 17]\n",
            "[1, 'Weapon', 'Cool Steel', 8, 18]\n",
            "[1, 'Weapon', 'Black Tassel', 9, 19]\n",
            "[10, 'Character', 'Featured 3', 0, 20]\n",
            "[1, 'Weapon', 'Harbinger of Dawn', 1, 21]\n",
            "[1, 'Weapon', 'Raven Bow', 2, 22]\n",
            "[1, 'Weapon', \"Sharpshooter's Oath\", 3, 23]\n",
            "[4, 'Character', 'Featured 3', 0, 24]\n",
            "[1, 'Weapon', 'Slingshot', 1, 25]\n",
            "[1, 'Weapon', 'Raven Bow', 2, 26]\n",
            "[1, 'Weapon', \"Sharpshooter's Oath\", 3, 27]\n",
            "[1, 'Weapon', 'Cool Steel', 4, 28]\n",
            "[5, 'Character', 'Yanfei', 0, 29]\n",
            "[1, 'Weapon', 'Raven Bow', 1, 30]\n",
            "[1, 'Weapon', 'Magic Guide', 2, 31]\n",
            "[1, 'Weapon', 'Debate Club', 3, 32]\n",
            "[1, 'Weapon', 'Magic Guide', 4, 33]\n",
            "[1, 'Weapon', 'Magic Guide', 5, 34]\n",
            "[1, 'Weapon', 'Ferrous Shadow', 6, 35]\n",
            "[1, 'Weapon', 'Harbinger of Dawn', 7, 36]\n",
            "[1, 'Weapon', 'Harbinger of Dawn', 8, 37]\n",
            "[1, 'Weapon', 'Cool Steel', 9, 38]\n",
            "[10, 'Character', 'Featured 1', 0, 39]\n",
            "[1, 'Weapon', 'Skyrider Sword', 1, 40]\n",
            "[1, 'Weapon', 'Emerald Orb', 2, 41]\n",
            "[1, 'Weapon', 'Emerald Orb', 3, 42]\n",
            "[1, 'Weapon', \"Sharpshooter's Oath\", 4, 43]\n",
            "[1, 'Weapon', 'Debate Club', 5, 44]\n",
            "[6, 'Weapon', 'The Stringless', 0, 45]\n",
            "[1, 'Weapon', 'Debate Club', 1, 46]\n",
            "[2, 'Character', 'Featured 1', 0, 47]\n",
            "[1, 'Weapon', 'Magic Guide', 1, 48]\n",
            "[1, 'Weapon', 'Raven Bow', 2, 49]\n",
            "[3, 'Weapon', 'Eye of Preception', 0, 50]\n"
          ]
        }
      ]
    },
    {
      "cell_type": "markdown",
      "source": [
        "### ***Roll Simulation"
      ],
      "metadata": {
        "id": "te9yfoNHsKni"
      }
    },
    {
      "cell_type": "code",
      "source": [
        "def roll_simulation(amount):\n",
        "  for i in range(amount):\n",
        "    print(roll_rng()[2])"
      ],
      "metadata": {
        "id": "xUTvwYc3sK_z"
      },
      "execution_count": null,
      "outputs": []
    },
    {
      "cell_type": "markdown",
      "source": [
        "Set variables"
      ],
      "metadata": {
        "id": "ymwgKzW6sZlv"
      }
    },
    {
      "cell_type": "code",
      "source": [
        "pity_count_5 = 34 #Starts counting at 0\n",
        "pity_count_4 = 6\n",
        "fail_5 = False\n",
        "fail_4 = False"
      ],
      "metadata": {
        "id": "SOUUgOznsYbo"
      },
      "execution_count": null,
      "outputs": []
    },
    {
      "cell_type": "code",
      "source": [
        "roll_simulation(10)"
      ],
      "metadata": {
        "colab": {
          "base_uri": "https://localhost:8080/"
        },
        "id": "H8hREFKzsbVA",
        "outputId": "d3992105-34a8-427f-d3e7-163013141354"
      },
      "execution_count": null,
      "outputs": [
        {
          "output_type": "stream",
          "name": "stdout",
          "text": [
            "Thrilling Tales of Dragon Slayers\n",
            "Debate Club\n",
            "Emerald Orb\n",
            "Favonius Lance\n",
            "Bloodtainted Greatsword\n",
            "Skyrider Sword\n",
            "Ferrous Shadow\n",
            "Sharpshooter's Oath\n",
            "Slingshot\n",
            "Thrilling Tales of Dragon Slayers\n"
          ]
        }
      ]
    },
    {
      "cell_type": "code",
      "source": [
        "reset()"
      ],
      "metadata": {
        "id": "xhjBYzQDsjvW"
      },
      "execution_count": null,
      "outputs": []
    },
    {
      "cell_type": "markdown",
      "source": [
        "## Machine Learning Prediction"
      ],
      "metadata": {
        "id": "wqShYTWFH7CU"
      }
    },
    {
      "cell_type": "markdown",
      "source": [
        "Testing model prediction\n",
        "\n",
        "-Follows rules of banner (10 4* soft pity, 90 5* pity, bias toward featured characters)\n",
        "\n",
        "-If failed, add pitys as columns"
      ],
      "metadata": {
        "id": "gHkQQb2hH95t"
      }
    },
    {
      "cell_type": "code",
      "source": [
        "from sklearn.model_selection import train_test_split\n",
        "from sklearn.tree import DecisionTreeClassifier\n",
        "from sklearn.linear_model import LinearRegression\n",
        "import tensorflow as tf\n",
        "from tensorflow.keras import Sequential\n",
        "from tensorflow.keras.layers import LSTM\n",
        "from tensorflow.keras.layers import Dense\n",
        "from tensorflow import keras"
      ],
      "metadata": {
        "id": "25pFVhfZcMUe"
      },
      "execution_count": null,
      "outputs": []
    },
    {
      "cell_type": "markdown",
      "source": [
        "### Import data"
      ],
      "metadata": {
        "id": "WckV576rpOg6"
      }
    },
    {
      "cell_type": "markdown",
      "source": [
        "#### Option 1: Use Simulated rolls"
      ],
      "metadata": {
        "id": "eyz8xAN8vZn0"
      }
    },
    {
      "cell_type": "code",
      "source": [
        "#Using Simulatation data temporarily\n",
        "simulated_rolls = []\n",
        "for i in range(1800):\n",
        "  simulated_rolls.append(roll_rng())\n",
        "reset()"
      ],
      "metadata": {
        "id": "WJs8Q502BeQl"
      },
      "execution_count": null,
      "outputs": []
    },
    {
      "cell_type": "code",
      "source": [
        "sim_data = pd.DataFrame(simulated_rolls,columns=[\"Pity\",\"Type\",\"Name\", \"4* Pity Count\", \"5* Pity Count\"])\n",
        "sim_data = sim_data.drop(columns=[\"Pity\",\"Type\"])\n",
        "sim_data"
      ],
      "metadata": {
        "colab": {
          "base_uri": "https://localhost:8080/",
          "height": 424
        },
        "id": "ia5ds2DoJDhY",
        "outputId": "ca7eaa52-c303-47a7-b786-367310ddd0ac"
      },
      "execution_count": null,
      "outputs": [
        {
          "output_type": "execute_result",
          "data": {
            "text/plain": [
              "                Name  4* Pity Count  5* Pity Count\n",
              "0        Debate Club            1.0            1.0\n",
              "1        Magic Guide            2.0            2.0\n",
              "2     Skyrider Sword            3.0            3.0\n",
              "3       Black Tassel            4.0            4.0\n",
              "4        Magic Guide            5.0            5.0\n",
              "...              ...            ...            ...\n",
              "1795       Slingshot            6.0           18.0\n",
              "1796       Slingshot            7.0           19.0\n",
              "1797     Emerald Orb            8.0           20.0\n",
              "1798     Debate Club            9.0           21.0\n",
              "1799      Featured 1            0.0           22.0\n",
              "\n",
              "[1800 rows x 3 columns]"
            ],
            "text/html": [
              "\n",
              "  <div id=\"df-7d2274a6-8799-4a27-b76e-1da3539b4b52\">\n",
              "    <div class=\"colab-df-container\">\n",
              "      <div>\n",
              "<style scoped>\n",
              "    .dataframe tbody tr th:only-of-type {\n",
              "        vertical-align: middle;\n",
              "    }\n",
              "\n",
              "    .dataframe tbody tr th {\n",
              "        vertical-align: top;\n",
              "    }\n",
              "\n",
              "    .dataframe thead th {\n",
              "        text-align: right;\n",
              "    }\n",
              "</style>\n",
              "<table border=\"1\" class=\"dataframe\">\n",
              "  <thead>\n",
              "    <tr style=\"text-align: right;\">\n",
              "      <th></th>\n",
              "      <th>Name</th>\n",
              "      <th>4* Pity Count</th>\n",
              "      <th>5* Pity Count</th>\n",
              "    </tr>\n",
              "  </thead>\n",
              "  <tbody>\n",
              "    <tr>\n",
              "      <th>0</th>\n",
              "      <td>Debate Club</td>\n",
              "      <td>1.0</td>\n",
              "      <td>1.0</td>\n",
              "    </tr>\n",
              "    <tr>\n",
              "      <th>1</th>\n",
              "      <td>Magic Guide</td>\n",
              "      <td>2.0</td>\n",
              "      <td>2.0</td>\n",
              "    </tr>\n",
              "    <tr>\n",
              "      <th>2</th>\n",
              "      <td>Skyrider Sword</td>\n",
              "      <td>3.0</td>\n",
              "      <td>3.0</td>\n",
              "    </tr>\n",
              "    <tr>\n",
              "      <th>3</th>\n",
              "      <td>Black Tassel</td>\n",
              "      <td>4.0</td>\n",
              "      <td>4.0</td>\n",
              "    </tr>\n",
              "    <tr>\n",
              "      <th>4</th>\n",
              "      <td>Magic Guide</td>\n",
              "      <td>5.0</td>\n",
              "      <td>5.0</td>\n",
              "    </tr>\n",
              "    <tr>\n",
              "      <th>...</th>\n",
              "      <td>...</td>\n",
              "      <td>...</td>\n",
              "      <td>...</td>\n",
              "    </tr>\n",
              "    <tr>\n",
              "      <th>1795</th>\n",
              "      <td>Slingshot</td>\n",
              "      <td>6.0</td>\n",
              "      <td>18.0</td>\n",
              "    </tr>\n",
              "    <tr>\n",
              "      <th>1796</th>\n",
              "      <td>Slingshot</td>\n",
              "      <td>7.0</td>\n",
              "      <td>19.0</td>\n",
              "    </tr>\n",
              "    <tr>\n",
              "      <th>1797</th>\n",
              "      <td>Emerald Orb</td>\n",
              "      <td>8.0</td>\n",
              "      <td>20.0</td>\n",
              "    </tr>\n",
              "    <tr>\n",
              "      <th>1798</th>\n",
              "      <td>Debate Club</td>\n",
              "      <td>9.0</td>\n",
              "      <td>21.0</td>\n",
              "    </tr>\n",
              "    <tr>\n",
              "      <th>1799</th>\n",
              "      <td>Featured 1</td>\n",
              "      <td>0.0</td>\n",
              "      <td>22.0</td>\n",
              "    </tr>\n",
              "  </tbody>\n",
              "</table>\n",
              "<p>1800 rows × 3 columns</p>\n",
              "</div>\n",
              "      <button class=\"colab-df-convert\" onclick=\"convertToInteractive('df-7d2274a6-8799-4a27-b76e-1da3539b4b52')\"\n",
              "              title=\"Convert this dataframe to an interactive table.\"\n",
              "              style=\"display:none;\">\n",
              "        \n",
              "  <svg xmlns=\"http://www.w3.org/2000/svg\" height=\"24px\"viewBox=\"0 0 24 24\"\n",
              "       width=\"24px\">\n",
              "    <path d=\"M0 0h24v24H0V0z\" fill=\"none\"/>\n",
              "    <path d=\"M18.56 5.44l.94 2.06.94-2.06 2.06-.94-2.06-.94-.94-2.06-.94 2.06-2.06.94zm-11 1L8.5 8.5l.94-2.06 2.06-.94-2.06-.94L8.5 2.5l-.94 2.06-2.06.94zm10 10l.94 2.06.94-2.06 2.06-.94-2.06-.94-.94-2.06-.94 2.06-2.06.94z\"/><path d=\"M17.41 7.96l-1.37-1.37c-.4-.4-.92-.59-1.43-.59-.52 0-1.04.2-1.43.59L10.3 9.45l-7.72 7.72c-.78.78-.78 2.05 0 2.83L4 21.41c.39.39.9.59 1.41.59.51 0 1.02-.2 1.41-.59l7.78-7.78 2.81-2.81c.8-.78.8-2.07 0-2.86zM5.41 20L4 18.59l7.72-7.72 1.47 1.35L5.41 20z\"/>\n",
              "  </svg>\n",
              "      </button>\n",
              "      \n",
              "  <style>\n",
              "    .colab-df-container {\n",
              "      display:flex;\n",
              "      flex-wrap:wrap;\n",
              "      gap: 12px;\n",
              "    }\n",
              "\n",
              "    .colab-df-convert {\n",
              "      background-color: #E8F0FE;\n",
              "      border: none;\n",
              "      border-radius: 50%;\n",
              "      cursor: pointer;\n",
              "      display: none;\n",
              "      fill: #1967D2;\n",
              "      height: 32px;\n",
              "      padding: 0 0 0 0;\n",
              "      width: 32px;\n",
              "    }\n",
              "\n",
              "    .colab-df-convert:hover {\n",
              "      background-color: #E2EBFA;\n",
              "      box-shadow: 0px 1px 2px rgba(60, 64, 67, 0.3), 0px 1px 3px 1px rgba(60, 64, 67, 0.15);\n",
              "      fill: #174EA6;\n",
              "    }\n",
              "\n",
              "    [theme=dark] .colab-df-convert {\n",
              "      background-color: #3B4455;\n",
              "      fill: #D2E3FC;\n",
              "    }\n",
              "\n",
              "    [theme=dark] .colab-df-convert:hover {\n",
              "      background-color: #434B5C;\n",
              "      box-shadow: 0px 1px 3px 1px rgba(0, 0, 0, 0.15);\n",
              "      filter: drop-shadow(0px 1px 2px rgba(0, 0, 0, 0.3));\n",
              "      fill: #FFFFFF;\n",
              "    }\n",
              "  </style>\n",
              "\n",
              "      <script>\n",
              "        const buttonEl =\n",
              "          document.querySelector('#df-7d2274a6-8799-4a27-b76e-1da3539b4b52 button.colab-df-convert');\n",
              "        buttonEl.style.display =\n",
              "          google.colab.kernel.accessAllowed ? 'block' : 'none';\n",
              "\n",
              "        async function convertToInteractive(key) {\n",
              "          const element = document.querySelector('#df-7d2274a6-8799-4a27-b76e-1da3539b4b52');\n",
              "          const dataTable =\n",
              "            await google.colab.kernel.invokeFunction('convertToInteractive',\n",
              "                                                     [key], {});\n",
              "          if (!dataTable) return;\n",
              "\n",
              "          const docLinkHtml = 'Like what you see? Visit the ' +\n",
              "            '<a target=\"_blank\" href=https://colab.research.google.com/notebooks/data_table.ipynb>data table notebook</a>'\n",
              "            + ' to learn more about interactive tables.';\n",
              "          element.innerHTML = '';\n",
              "          dataTable['output_type'] = 'display_data';\n",
              "          await google.colab.output.renderOutput(dataTable, element);\n",
              "          const docLink = document.createElement('div');\n",
              "          docLink.innerHTML = docLinkHtml;\n",
              "          element.appendChild(docLink);\n",
              "        }\n",
              "      </script>\n",
              "    </div>\n",
              "  </div>\n",
              "  "
            ]
          },
          "metadata": {},
          "execution_count": 31
        }
      ]
    },
    {
      "cell_type": "markdown",
      "source": [
        "#### Option 2: Import data"
      ],
      "metadata": {
        "id": "20dcPgLhIYXf"
      }
    },
    {
      "cell_type": "markdown",
      "source": [
        "Before importing...\n",
        "\n",
        "-Rewrite featured 4* characters as Featured 1/2/3\n",
        "\n",
        "-Rewrite featured 5* characters as Featured 5*\n",
        "\n",
        "-Update contents of banners if needed"
      ],
      "metadata": {
        "id": "yxHw1XFoIaJ1"
      }
    },
    {
      "cell_type": "code",
      "source": [
        "#Real roll data (up to 5/2022)\n",
        "real_data = pd.read_excel(\"paimonmoe_wish_history.xlsx\")\n",
        "real_data.head()"
      ],
      "metadata": {
        "colab": {
          "base_uri": "https://localhost:8080/",
          "height": 206
        },
        "id": "_HuXoh2yvm0H",
        "outputId": "b768e63c-6462-4460-ab52-132b13c028dd"
      },
      "execution_count": null,
      "outputs": [
        {
          "output_type": "execute_result",
          "data": {
            "text/plain": [
              "        Type                               Name                 Time  ⭐  Pity  \\\n",
              "0     Weapon                        Emerald Orb  2022-05-31 00:39:02  3     1   \n",
              "1  Character                         Featured 1  2022-05-31 00:39:02  4     2   \n",
              "2     Weapon                         Cool Steel  2022-05-31 00:39:02  3     1   \n",
              "3     Weapon  Thrilling Tales of Dragon Slayers  2022-05-31 00:39:02  3     1   \n",
              "4     Weapon                        Debate Club  2022-05-31 00:39:02  3     1   \n",
              "\n",
              "   #Roll  Group                Banner Part  \n",
              "0      1      1  Discerner of Enigmas  NaN  \n",
              "1      2      1  Discerner of Enigmas  NaN  \n",
              "2      3      1  Discerner of Enigmas  NaN  \n",
              "3      4      1  Discerner of Enigmas  NaN  \n",
              "4      5      1  Discerner of Enigmas  NaN  "
            ],
            "text/html": [
              "\n",
              "  <div id=\"df-92819346-df4a-40fb-8d51-f52ea9ec7e88\">\n",
              "    <div class=\"colab-df-container\">\n",
              "      <div>\n",
              "<style scoped>\n",
              "    .dataframe tbody tr th:only-of-type {\n",
              "        vertical-align: middle;\n",
              "    }\n",
              "\n",
              "    .dataframe tbody tr th {\n",
              "        vertical-align: top;\n",
              "    }\n",
              "\n",
              "    .dataframe thead th {\n",
              "        text-align: right;\n",
              "    }\n",
              "</style>\n",
              "<table border=\"1\" class=\"dataframe\">\n",
              "  <thead>\n",
              "    <tr style=\"text-align: right;\">\n",
              "      <th></th>\n",
              "      <th>Type</th>\n",
              "      <th>Name</th>\n",
              "      <th>Time</th>\n",
              "      <th>⭐</th>\n",
              "      <th>Pity</th>\n",
              "      <th>#Roll</th>\n",
              "      <th>Group</th>\n",
              "      <th>Banner</th>\n",
              "      <th>Part</th>\n",
              "    </tr>\n",
              "  </thead>\n",
              "  <tbody>\n",
              "    <tr>\n",
              "      <th>0</th>\n",
              "      <td>Weapon</td>\n",
              "      <td>Emerald Orb</td>\n",
              "      <td>2022-05-31 00:39:02</td>\n",
              "      <td>3</td>\n",
              "      <td>1</td>\n",
              "      <td>1</td>\n",
              "      <td>1</td>\n",
              "      <td>Discerner of Enigmas</td>\n",
              "      <td>NaN</td>\n",
              "    </tr>\n",
              "    <tr>\n",
              "      <th>1</th>\n",
              "      <td>Character</td>\n",
              "      <td>Featured 1</td>\n",
              "      <td>2022-05-31 00:39:02</td>\n",
              "      <td>4</td>\n",
              "      <td>2</td>\n",
              "      <td>2</td>\n",
              "      <td>1</td>\n",
              "      <td>Discerner of Enigmas</td>\n",
              "      <td>NaN</td>\n",
              "    </tr>\n",
              "    <tr>\n",
              "      <th>2</th>\n",
              "      <td>Weapon</td>\n",
              "      <td>Cool Steel</td>\n",
              "      <td>2022-05-31 00:39:02</td>\n",
              "      <td>3</td>\n",
              "      <td>1</td>\n",
              "      <td>3</td>\n",
              "      <td>1</td>\n",
              "      <td>Discerner of Enigmas</td>\n",
              "      <td>NaN</td>\n",
              "    </tr>\n",
              "    <tr>\n",
              "      <th>3</th>\n",
              "      <td>Weapon</td>\n",
              "      <td>Thrilling Tales of Dragon Slayers</td>\n",
              "      <td>2022-05-31 00:39:02</td>\n",
              "      <td>3</td>\n",
              "      <td>1</td>\n",
              "      <td>4</td>\n",
              "      <td>1</td>\n",
              "      <td>Discerner of Enigmas</td>\n",
              "      <td>NaN</td>\n",
              "    </tr>\n",
              "    <tr>\n",
              "      <th>4</th>\n",
              "      <td>Weapon</td>\n",
              "      <td>Debate Club</td>\n",
              "      <td>2022-05-31 00:39:02</td>\n",
              "      <td>3</td>\n",
              "      <td>1</td>\n",
              "      <td>5</td>\n",
              "      <td>1</td>\n",
              "      <td>Discerner of Enigmas</td>\n",
              "      <td>NaN</td>\n",
              "    </tr>\n",
              "  </tbody>\n",
              "</table>\n",
              "</div>\n",
              "      <button class=\"colab-df-convert\" onclick=\"convertToInteractive('df-92819346-df4a-40fb-8d51-f52ea9ec7e88')\"\n",
              "              title=\"Convert this dataframe to an interactive table.\"\n",
              "              style=\"display:none;\">\n",
              "        \n",
              "  <svg xmlns=\"http://www.w3.org/2000/svg\" height=\"24px\"viewBox=\"0 0 24 24\"\n",
              "       width=\"24px\">\n",
              "    <path d=\"M0 0h24v24H0V0z\" fill=\"none\"/>\n",
              "    <path d=\"M18.56 5.44l.94 2.06.94-2.06 2.06-.94-2.06-.94-.94-2.06-.94 2.06-2.06.94zm-11 1L8.5 8.5l.94-2.06 2.06-.94-2.06-.94L8.5 2.5l-.94 2.06-2.06.94zm10 10l.94 2.06.94-2.06 2.06-.94-2.06-.94-.94-2.06-.94 2.06-2.06.94z\"/><path d=\"M17.41 7.96l-1.37-1.37c-.4-.4-.92-.59-1.43-.59-.52 0-1.04.2-1.43.59L10.3 9.45l-7.72 7.72c-.78.78-.78 2.05 0 2.83L4 21.41c.39.39.9.59 1.41.59.51 0 1.02-.2 1.41-.59l7.78-7.78 2.81-2.81c.8-.78.8-2.07 0-2.86zM5.41 20L4 18.59l7.72-7.72 1.47 1.35L5.41 20z\"/>\n",
              "  </svg>\n",
              "      </button>\n",
              "      \n",
              "  <style>\n",
              "    .colab-df-container {\n",
              "      display:flex;\n",
              "      flex-wrap:wrap;\n",
              "      gap: 12px;\n",
              "    }\n",
              "\n",
              "    .colab-df-convert {\n",
              "      background-color: #E8F0FE;\n",
              "      border: none;\n",
              "      border-radius: 50%;\n",
              "      cursor: pointer;\n",
              "      display: none;\n",
              "      fill: #1967D2;\n",
              "      height: 32px;\n",
              "      padding: 0 0 0 0;\n",
              "      width: 32px;\n",
              "    }\n",
              "\n",
              "    .colab-df-convert:hover {\n",
              "      background-color: #E2EBFA;\n",
              "      box-shadow: 0px 1px 2px rgba(60, 64, 67, 0.3), 0px 1px 3px 1px rgba(60, 64, 67, 0.15);\n",
              "      fill: #174EA6;\n",
              "    }\n",
              "\n",
              "    [theme=dark] .colab-df-convert {\n",
              "      background-color: #3B4455;\n",
              "      fill: #D2E3FC;\n",
              "    }\n",
              "\n",
              "    [theme=dark] .colab-df-convert:hover {\n",
              "      background-color: #434B5C;\n",
              "      box-shadow: 0px 1px 3px 1px rgba(0, 0, 0, 0.15);\n",
              "      filter: drop-shadow(0px 1px 2px rgba(0, 0, 0, 0.3));\n",
              "      fill: #FFFFFF;\n",
              "    }\n",
              "  </style>\n",
              "\n",
              "      <script>\n",
              "        const buttonEl =\n",
              "          document.querySelector('#df-92819346-df4a-40fb-8d51-f52ea9ec7e88 button.colab-df-convert');\n",
              "        buttonEl.style.display =\n",
              "          google.colab.kernel.accessAllowed ? 'block' : 'none';\n",
              "\n",
              "        async function convertToInteractive(key) {\n",
              "          const element = document.querySelector('#df-92819346-df4a-40fb-8d51-f52ea9ec7e88');\n",
              "          const dataTable =\n",
              "            await google.colab.kernel.invokeFunction('convertToInteractive',\n",
              "                                                     [key], {});\n",
              "          if (!dataTable) return;\n",
              "\n",
              "          const docLinkHtml = 'Like what you see? Visit the ' +\n",
              "            '<a target=\"_blank\" href=https://colab.research.google.com/notebooks/data_table.ipynb>data table notebook</a>'\n",
              "            + ' to learn more about interactive tables.';\n",
              "          element.innerHTML = '';\n",
              "          dataTable['output_type'] = 'display_data';\n",
              "          await google.colab.output.renderOutput(dataTable, element);\n",
              "          const docLink = document.createElement('div');\n",
              "          docLink.innerHTML = docLinkHtml;\n",
              "          element.appendChild(docLink);\n",
              "        }\n",
              "      </script>\n",
              "    </div>\n",
              "  </div>\n",
              "  "
            ]
          },
          "metadata": {},
          "execution_count": 32
        }
      ]
    },
    {
      "cell_type": "markdown",
      "source": [
        "##### Convert pity to meet format"
      ],
      "metadata": {
        "id": "3wdXqksFw4Ty"
      }
    },
    {
      "cell_type": "code",
      "source": [
        "pity_5_reformat = []\n",
        "pity_4_reformat = []\n",
        "p4_counter = 0\n",
        "p5_counter = 0\n",
        "for star, pity in zip(real_data[\"⭐\"],real_data[\"Pity\"]):\n",
        "  p4_counter += 1\n",
        "  p5_counter += 1\n",
        "  pity_4_reformat.append(p4_counter)\n",
        "  pity_5_reformat.append(p5_counter)\n",
        "  if star == 4:\n",
        "    p4_counter = 0\n",
        "  elif star == 5:\n",
        "    p5_counter = 0\n",
        "real_data[\"4* Pity Count\"] = pity_4_reformat\n",
        "real_data[\"5* Pity Count\"] = pity_5_reformat\n",
        "real_data.head()"
      ],
      "metadata": {
        "id": "xrKBVjOoxEJu",
        "colab": {
          "base_uri": "https://localhost:8080/",
          "height": 206
        },
        "outputId": "4c81b20c-f0db-448a-b5ba-840316ab8e25"
      },
      "execution_count": null,
      "outputs": [
        {
          "output_type": "execute_result",
          "data": {
            "text/plain": [
              "        Type                               Name                 Time  ⭐  Pity  \\\n",
              "0     Weapon                        Emerald Orb  2022-05-31 00:39:02  3     1   \n",
              "1  Character                         Featured 1  2022-05-31 00:39:02  4     2   \n",
              "2     Weapon                         Cool Steel  2022-05-31 00:39:02  3     1   \n",
              "3     Weapon  Thrilling Tales of Dragon Slayers  2022-05-31 00:39:02  3     1   \n",
              "4     Weapon                        Debate Club  2022-05-31 00:39:02  3     1   \n",
              "\n",
              "   #Roll  Group                Banner Part  4* Pity Count  5* Pity Count  \n",
              "0      1      1  Discerner of Enigmas  NaN              1              1  \n",
              "1      2      1  Discerner of Enigmas  NaN              2              2  \n",
              "2      3      1  Discerner of Enigmas  NaN              1              3  \n",
              "3      4      1  Discerner of Enigmas  NaN              2              4  \n",
              "4      5      1  Discerner of Enigmas  NaN              3              5  "
            ],
            "text/html": [
              "\n",
              "  <div id=\"df-79302617-90e9-4fc7-9d8d-e3f0836e16cb\">\n",
              "    <div class=\"colab-df-container\">\n",
              "      <div>\n",
              "<style scoped>\n",
              "    .dataframe tbody tr th:only-of-type {\n",
              "        vertical-align: middle;\n",
              "    }\n",
              "\n",
              "    .dataframe tbody tr th {\n",
              "        vertical-align: top;\n",
              "    }\n",
              "\n",
              "    .dataframe thead th {\n",
              "        text-align: right;\n",
              "    }\n",
              "</style>\n",
              "<table border=\"1\" class=\"dataframe\">\n",
              "  <thead>\n",
              "    <tr style=\"text-align: right;\">\n",
              "      <th></th>\n",
              "      <th>Type</th>\n",
              "      <th>Name</th>\n",
              "      <th>Time</th>\n",
              "      <th>⭐</th>\n",
              "      <th>Pity</th>\n",
              "      <th>#Roll</th>\n",
              "      <th>Group</th>\n",
              "      <th>Banner</th>\n",
              "      <th>Part</th>\n",
              "      <th>4* Pity Count</th>\n",
              "      <th>5* Pity Count</th>\n",
              "    </tr>\n",
              "  </thead>\n",
              "  <tbody>\n",
              "    <tr>\n",
              "      <th>0</th>\n",
              "      <td>Weapon</td>\n",
              "      <td>Emerald Orb</td>\n",
              "      <td>2022-05-31 00:39:02</td>\n",
              "      <td>3</td>\n",
              "      <td>1</td>\n",
              "      <td>1</td>\n",
              "      <td>1</td>\n",
              "      <td>Discerner of Enigmas</td>\n",
              "      <td>NaN</td>\n",
              "      <td>1</td>\n",
              "      <td>1</td>\n",
              "    </tr>\n",
              "    <tr>\n",
              "      <th>1</th>\n",
              "      <td>Character</td>\n",
              "      <td>Featured 1</td>\n",
              "      <td>2022-05-31 00:39:02</td>\n",
              "      <td>4</td>\n",
              "      <td>2</td>\n",
              "      <td>2</td>\n",
              "      <td>1</td>\n",
              "      <td>Discerner of Enigmas</td>\n",
              "      <td>NaN</td>\n",
              "      <td>2</td>\n",
              "      <td>2</td>\n",
              "    </tr>\n",
              "    <tr>\n",
              "      <th>2</th>\n",
              "      <td>Weapon</td>\n",
              "      <td>Cool Steel</td>\n",
              "      <td>2022-05-31 00:39:02</td>\n",
              "      <td>3</td>\n",
              "      <td>1</td>\n",
              "      <td>3</td>\n",
              "      <td>1</td>\n",
              "      <td>Discerner of Enigmas</td>\n",
              "      <td>NaN</td>\n",
              "      <td>1</td>\n",
              "      <td>3</td>\n",
              "    </tr>\n",
              "    <tr>\n",
              "      <th>3</th>\n",
              "      <td>Weapon</td>\n",
              "      <td>Thrilling Tales of Dragon Slayers</td>\n",
              "      <td>2022-05-31 00:39:02</td>\n",
              "      <td>3</td>\n",
              "      <td>1</td>\n",
              "      <td>4</td>\n",
              "      <td>1</td>\n",
              "      <td>Discerner of Enigmas</td>\n",
              "      <td>NaN</td>\n",
              "      <td>2</td>\n",
              "      <td>4</td>\n",
              "    </tr>\n",
              "    <tr>\n",
              "      <th>4</th>\n",
              "      <td>Weapon</td>\n",
              "      <td>Debate Club</td>\n",
              "      <td>2022-05-31 00:39:02</td>\n",
              "      <td>3</td>\n",
              "      <td>1</td>\n",
              "      <td>5</td>\n",
              "      <td>1</td>\n",
              "      <td>Discerner of Enigmas</td>\n",
              "      <td>NaN</td>\n",
              "      <td>3</td>\n",
              "      <td>5</td>\n",
              "    </tr>\n",
              "  </tbody>\n",
              "</table>\n",
              "</div>\n",
              "      <button class=\"colab-df-convert\" onclick=\"convertToInteractive('df-79302617-90e9-4fc7-9d8d-e3f0836e16cb')\"\n",
              "              title=\"Convert this dataframe to an interactive table.\"\n",
              "              style=\"display:none;\">\n",
              "        \n",
              "  <svg xmlns=\"http://www.w3.org/2000/svg\" height=\"24px\"viewBox=\"0 0 24 24\"\n",
              "       width=\"24px\">\n",
              "    <path d=\"M0 0h24v24H0V0z\" fill=\"none\"/>\n",
              "    <path d=\"M18.56 5.44l.94 2.06.94-2.06 2.06-.94-2.06-.94-.94-2.06-.94 2.06-2.06.94zm-11 1L8.5 8.5l.94-2.06 2.06-.94-2.06-.94L8.5 2.5l-.94 2.06-2.06.94zm10 10l.94 2.06.94-2.06 2.06-.94-2.06-.94-.94-2.06-.94 2.06-2.06.94z\"/><path d=\"M17.41 7.96l-1.37-1.37c-.4-.4-.92-.59-1.43-.59-.52 0-1.04.2-1.43.59L10.3 9.45l-7.72 7.72c-.78.78-.78 2.05 0 2.83L4 21.41c.39.39.9.59 1.41.59.51 0 1.02-.2 1.41-.59l7.78-7.78 2.81-2.81c.8-.78.8-2.07 0-2.86zM5.41 20L4 18.59l7.72-7.72 1.47 1.35L5.41 20z\"/>\n",
              "  </svg>\n",
              "      </button>\n",
              "      \n",
              "  <style>\n",
              "    .colab-df-container {\n",
              "      display:flex;\n",
              "      flex-wrap:wrap;\n",
              "      gap: 12px;\n",
              "    }\n",
              "\n",
              "    .colab-df-convert {\n",
              "      background-color: #E8F0FE;\n",
              "      border: none;\n",
              "      border-radius: 50%;\n",
              "      cursor: pointer;\n",
              "      display: none;\n",
              "      fill: #1967D2;\n",
              "      height: 32px;\n",
              "      padding: 0 0 0 0;\n",
              "      width: 32px;\n",
              "    }\n",
              "\n",
              "    .colab-df-convert:hover {\n",
              "      background-color: #E2EBFA;\n",
              "      box-shadow: 0px 1px 2px rgba(60, 64, 67, 0.3), 0px 1px 3px 1px rgba(60, 64, 67, 0.15);\n",
              "      fill: #174EA6;\n",
              "    }\n",
              "\n",
              "    [theme=dark] .colab-df-convert {\n",
              "      background-color: #3B4455;\n",
              "      fill: #D2E3FC;\n",
              "    }\n",
              "\n",
              "    [theme=dark] .colab-df-convert:hover {\n",
              "      background-color: #434B5C;\n",
              "      box-shadow: 0px 1px 3px 1px rgba(0, 0, 0, 0.15);\n",
              "      filter: drop-shadow(0px 1px 2px rgba(0, 0, 0, 0.3));\n",
              "      fill: #FFFFFF;\n",
              "    }\n",
              "  </style>\n",
              "\n",
              "      <script>\n",
              "        const buttonEl =\n",
              "          document.querySelector('#df-79302617-90e9-4fc7-9d8d-e3f0836e16cb button.colab-df-convert');\n",
              "        buttonEl.style.display =\n",
              "          google.colab.kernel.accessAllowed ? 'block' : 'none';\n",
              "\n",
              "        async function convertToInteractive(key) {\n",
              "          const element = document.querySelector('#df-79302617-90e9-4fc7-9d8d-e3f0836e16cb');\n",
              "          const dataTable =\n",
              "            await google.colab.kernel.invokeFunction('convertToInteractive',\n",
              "                                                     [key], {});\n",
              "          if (!dataTable) return;\n",
              "\n",
              "          const docLinkHtml = 'Like what you see? Visit the ' +\n",
              "            '<a target=\"_blank\" href=https://colab.research.google.com/notebooks/data_table.ipynb>data table notebook</a>'\n",
              "            + ' to learn more about interactive tables.';\n",
              "          element.innerHTML = '';\n",
              "          dataTable['output_type'] = 'display_data';\n",
              "          await google.colab.output.renderOutput(dataTable, element);\n",
              "          const docLink = document.createElement('div');\n",
              "          docLink.innerHTML = docLinkHtml;\n",
              "          element.appendChild(docLink);\n",
              "        }\n",
              "      </script>\n",
              "    </div>\n",
              "  </div>\n",
              "  "
            ]
          },
          "metadata": {},
          "execution_count": 33
        }
      ]
    },
    {
      "cell_type": "code",
      "source": [
        "real_data = real_data.drop(columns=[\"Type\",\"Time\",\"⭐\",\"Pity\",\"#Roll\",\"Group\",\"Banner\",\"Part\"])\n",
        "real_data.head()"
      ],
      "metadata": {
        "id": "VkcGcLApwD2t",
        "colab": {
          "base_uri": "https://localhost:8080/",
          "height": 206
        },
        "outputId": "c25b67f8-c7a9-4158-c82a-a4305bca7c6c"
      },
      "execution_count": null,
      "outputs": [
        {
          "output_type": "execute_result",
          "data": {
            "text/plain": [
              "                                Name  4* Pity Count  5* Pity Count\n",
              "0                        Emerald Orb              1              1\n",
              "1                         Featured 1              2              2\n",
              "2                         Cool Steel              1              3\n",
              "3  Thrilling Tales of Dragon Slayers              2              4\n",
              "4                        Debate Club              3              5"
            ],
            "text/html": [
              "\n",
              "  <div id=\"df-52fc8257-5d5c-43b1-b56b-f01a7ffcf886\">\n",
              "    <div class=\"colab-df-container\">\n",
              "      <div>\n",
              "<style scoped>\n",
              "    .dataframe tbody tr th:only-of-type {\n",
              "        vertical-align: middle;\n",
              "    }\n",
              "\n",
              "    .dataframe tbody tr th {\n",
              "        vertical-align: top;\n",
              "    }\n",
              "\n",
              "    .dataframe thead th {\n",
              "        text-align: right;\n",
              "    }\n",
              "</style>\n",
              "<table border=\"1\" class=\"dataframe\">\n",
              "  <thead>\n",
              "    <tr style=\"text-align: right;\">\n",
              "      <th></th>\n",
              "      <th>Name</th>\n",
              "      <th>4* Pity Count</th>\n",
              "      <th>5* Pity Count</th>\n",
              "    </tr>\n",
              "  </thead>\n",
              "  <tbody>\n",
              "    <tr>\n",
              "      <th>0</th>\n",
              "      <td>Emerald Orb</td>\n",
              "      <td>1</td>\n",
              "      <td>1</td>\n",
              "    </tr>\n",
              "    <tr>\n",
              "      <th>1</th>\n",
              "      <td>Featured 1</td>\n",
              "      <td>2</td>\n",
              "      <td>2</td>\n",
              "    </tr>\n",
              "    <tr>\n",
              "      <th>2</th>\n",
              "      <td>Cool Steel</td>\n",
              "      <td>1</td>\n",
              "      <td>3</td>\n",
              "    </tr>\n",
              "    <tr>\n",
              "      <th>3</th>\n",
              "      <td>Thrilling Tales of Dragon Slayers</td>\n",
              "      <td>2</td>\n",
              "      <td>4</td>\n",
              "    </tr>\n",
              "    <tr>\n",
              "      <th>4</th>\n",
              "      <td>Debate Club</td>\n",
              "      <td>3</td>\n",
              "      <td>5</td>\n",
              "    </tr>\n",
              "  </tbody>\n",
              "</table>\n",
              "</div>\n",
              "      <button class=\"colab-df-convert\" onclick=\"convertToInteractive('df-52fc8257-5d5c-43b1-b56b-f01a7ffcf886')\"\n",
              "              title=\"Convert this dataframe to an interactive table.\"\n",
              "              style=\"display:none;\">\n",
              "        \n",
              "  <svg xmlns=\"http://www.w3.org/2000/svg\" height=\"24px\"viewBox=\"0 0 24 24\"\n",
              "       width=\"24px\">\n",
              "    <path d=\"M0 0h24v24H0V0z\" fill=\"none\"/>\n",
              "    <path d=\"M18.56 5.44l.94 2.06.94-2.06 2.06-.94-2.06-.94-.94-2.06-.94 2.06-2.06.94zm-11 1L8.5 8.5l.94-2.06 2.06-.94-2.06-.94L8.5 2.5l-.94 2.06-2.06.94zm10 10l.94 2.06.94-2.06 2.06-.94-2.06-.94-.94-2.06-.94 2.06-2.06.94z\"/><path d=\"M17.41 7.96l-1.37-1.37c-.4-.4-.92-.59-1.43-.59-.52 0-1.04.2-1.43.59L10.3 9.45l-7.72 7.72c-.78.78-.78 2.05 0 2.83L4 21.41c.39.39.9.59 1.41.59.51 0 1.02-.2 1.41-.59l7.78-7.78 2.81-2.81c.8-.78.8-2.07 0-2.86zM5.41 20L4 18.59l7.72-7.72 1.47 1.35L5.41 20z\"/>\n",
              "  </svg>\n",
              "      </button>\n",
              "      \n",
              "  <style>\n",
              "    .colab-df-container {\n",
              "      display:flex;\n",
              "      flex-wrap:wrap;\n",
              "      gap: 12px;\n",
              "    }\n",
              "\n",
              "    .colab-df-convert {\n",
              "      background-color: #E8F0FE;\n",
              "      border: none;\n",
              "      border-radius: 50%;\n",
              "      cursor: pointer;\n",
              "      display: none;\n",
              "      fill: #1967D2;\n",
              "      height: 32px;\n",
              "      padding: 0 0 0 0;\n",
              "      width: 32px;\n",
              "    }\n",
              "\n",
              "    .colab-df-convert:hover {\n",
              "      background-color: #E2EBFA;\n",
              "      box-shadow: 0px 1px 2px rgba(60, 64, 67, 0.3), 0px 1px 3px 1px rgba(60, 64, 67, 0.15);\n",
              "      fill: #174EA6;\n",
              "    }\n",
              "\n",
              "    [theme=dark] .colab-df-convert {\n",
              "      background-color: #3B4455;\n",
              "      fill: #D2E3FC;\n",
              "    }\n",
              "\n",
              "    [theme=dark] .colab-df-convert:hover {\n",
              "      background-color: #434B5C;\n",
              "      box-shadow: 0px 1px 3px 1px rgba(0, 0, 0, 0.15);\n",
              "      filter: drop-shadow(0px 1px 2px rgba(0, 0, 0, 0.3));\n",
              "      fill: #FFFFFF;\n",
              "    }\n",
              "  </style>\n",
              "\n",
              "      <script>\n",
              "        const buttonEl =\n",
              "          document.querySelector('#df-52fc8257-5d5c-43b1-b56b-f01a7ffcf886 button.colab-df-convert');\n",
              "        buttonEl.style.display =\n",
              "          google.colab.kernel.accessAllowed ? 'block' : 'none';\n",
              "\n",
              "        async function convertToInteractive(key) {\n",
              "          const element = document.querySelector('#df-52fc8257-5d5c-43b1-b56b-f01a7ffcf886');\n",
              "          const dataTable =\n",
              "            await google.colab.kernel.invokeFunction('convertToInteractive',\n",
              "                                                     [key], {});\n",
              "          if (!dataTable) return;\n",
              "\n",
              "          const docLinkHtml = 'Like what you see? Visit the ' +\n",
              "            '<a target=\"_blank\" href=https://colab.research.google.com/notebooks/data_table.ipynb>data table notebook</a>'\n",
              "            + ' to learn more about interactive tables.';\n",
              "          element.innerHTML = '';\n",
              "          dataTable['output_type'] = 'display_data';\n",
              "          await google.colab.output.renderOutput(dataTable, element);\n",
              "          const docLink = document.createElement('div');\n",
              "          docLink.innerHTML = docLinkHtml;\n",
              "          element.appendChild(docLink);\n",
              "        }\n",
              "      </script>\n",
              "    </div>\n",
              "  </div>\n",
              "  "
            ]
          },
          "metadata": {},
          "execution_count": 34
        }
      ]
    },
    {
      "cell_type": "markdown",
      "source": [
        "#### Convert to categorical data"
      ],
      "metadata": {
        "id": "UZpBB2_tUSda"
      }
    },
    {
      "cell_type": "markdown",
      "source": [
        "Change categories to:\n",
        "\n",
        "promotional_char\n",
        "\n",
        "featured_chars\n",
        "\n",
        "standard_5_star\n",
        "\n",
        "standard_4_star_chars\n",
        "\n",
        "standard_4_star_weapons\n",
        "\n",
        "standard_3_star_weapons"
      ],
      "metadata": {
        "id": "HuTzPHjqT4TW"
      }
    },
    {
      "cell_type": "code",
      "source": [
        "def revise_names(data):\n",
        "  revised_names = []\n",
        "  missing_name = False\n",
        "  for name in data[\"Name\"]:\n",
        "    if name in standard_3_star_weapons: revised_names.append(0)\n",
        "    elif name in standard_4_star_weapons: revised_names.append(1)\n",
        "    elif name in standard_4_star_chars: revised_names.append(2)\n",
        "    elif name in standard_5_star: revised_names.append(3)\n",
        "    elif name in featured_chars: revised_names.append(4)\n",
        "    elif name in promotional_char: revised_names.append(5)\n",
        "    else: \n",
        "      missing_name = True\n",
        "      print(name)\n",
        "  assert not missing_name, \"Please add these items to the contents of the banners\"\n",
        "  return revised_names"
      ],
      "metadata": {
        "id": "UmH3i33bUM2o"
      },
      "execution_count": null,
      "outputs": []
    },
    {
      "cell_type": "code",
      "source": [
        "def transform_data(data):\n",
        "  data = add_pity(data)\n",
        "  transformed_data = {}\n",
        "  for i in range(0,len(data.columns)):\n",
        "    transformed_data[data.columns[i]] = data[data.columns[i]].astype('category').cat.codes\n",
        "  return pd.DataFrame(transformed_data).drop(columns=[\"Name\"])"
      ],
      "metadata": {
        "id": "H4ZcBkeHJhzU"
      },
      "execution_count": null,
      "outputs": []
    },
    {
      "cell_type": "code",
      "source": [
        "def add_pity(data):\n",
        "  pity_4 = False\n",
        "  pity_5 = False\n",
        "  pity_4_col = []\n",
        "  pity_5_col = []\n",
        "  for name in data[\"Name\"]:\n",
        "    pity_4_col.append(pity_4)\n",
        "    pity_5_col.append(pity_5)\n",
        "    if name in promotional_char: pity_5 = False\n",
        "    elif name in standard_5_star: pity_5 = True\n",
        "    elif name in featured_chars: pity_4 = False\n",
        "    elif name in (standard_4_star_chars+standard_4_star_weapons): pity_4 = True\n",
        "  data[\"4* Pity\"] = pity_4_col\n",
        "  data[\"5* Pity\"] = pity_5_col\n",
        "  return data"
      ],
      "metadata": {
        "id": "kjkzmpt-LykW"
      },
      "execution_count": null,
      "outputs": []
    },
    {
      "cell_type": "code",
      "source": [
        "#categories = {}\n",
        "#cat_col = data[\"Name\"].astype('category')\n",
        "#for i in range(len(X[\"Name\"])):\n",
        "#  categoriesX[\"Name\"][i]] = cat_col[i]\n",
        "#categories = dict(sorted(categories.items()))\n",
        "\n",
        "#categories = promotional_char + featured_chars + standard_5_star + standard_4_star_chars + standard_4_star_weapons + standard_3_star_weapons\n",
        "#categories.sort()\n",
        "categories = [\"standard 3 star weapon\", \"standard 4 star weapons\", \"standard 4 star chars\", \"standard 5 star character\",  \"featured character\", \"promotional char\"] \n",
        "\n",
        "categories"
      ],
      "metadata": {
        "id": "5e_NM_54UtVk",
        "colab": {
          "base_uri": "https://localhost:8080/"
        },
        "outputId": "7747cb44-3c89-4c36-af66-e6e318a150e5"
      },
      "execution_count": null,
      "outputs": [
        {
          "output_type": "execute_result",
          "data": {
            "text/plain": [
              "['standard 3 star weapon',\n",
              " 'standard 4 star weapons',\n",
              " 'standard 4 star chars',\n",
              " 'standard 5 star character',\n",
              " 'featured character',\n",
              " 'promotional char']"
            ]
          },
          "metadata": {},
          "execution_count": 38
        }
      ]
    },
    {
      "cell_type": "markdown",
      "source": [
        "#### Split data (non-random)"
      ],
      "metadata": {
        "id": "1LIzLLRJYwS5"
      }
    },
    {
      "cell_type": "code",
      "source": [
        "sim_Y = revise_names(sim_data) \n",
        "#Y = X[X.columns[2]] #Name\n",
        "sim_X = transform_data(sim_data)\n",
        "sim_X.head(22)"
      ],
      "metadata": {
        "id": "MsqTvGLaZ1Bg",
        "colab": {
          "base_uri": "https://localhost:8080/",
          "height": 739
        },
        "outputId": "4a7841ad-74a5-4933-fb8b-5d27041aa8ff"
      },
      "execution_count": null,
      "outputs": [
        {
          "output_type": "execute_result",
          "data": {
            "text/plain": [
              "    4* Pity Count  5* Pity Count  4* Pity  5* Pity\n",
              "0               1              1        0        0\n",
              "1               2              2        0        0\n",
              "2               3              3        0        0\n",
              "3               4              4        0        0\n",
              "4               5              5        0        0\n",
              "5               6              6        0        0\n",
              "6               7              7        0        0\n",
              "7               8              8        0        0\n",
              "8               9              9        0        0\n",
              "9               0             10        0        0\n",
              "10              1             11        1        0\n",
              "11              2             12        1        0\n",
              "12              3             13        1        0\n",
              "13              4             14        1        0\n",
              "14              5             15        1        0\n",
              "15              6             16        1        0\n",
              "16              7             17        1        0\n",
              "17              8             18        1        0\n",
              "18              9             19        1        0\n",
              "19              0             20        1        0\n",
              "20              1             21        0        0\n",
              "21              2             22        0        0"
            ],
            "text/html": [
              "\n",
              "  <div id=\"df-4b1618b4-0c90-4344-b1d8-ccd94ea3171b\">\n",
              "    <div class=\"colab-df-container\">\n",
              "      <div>\n",
              "<style scoped>\n",
              "    .dataframe tbody tr th:only-of-type {\n",
              "        vertical-align: middle;\n",
              "    }\n",
              "\n",
              "    .dataframe tbody tr th {\n",
              "        vertical-align: top;\n",
              "    }\n",
              "\n",
              "    .dataframe thead th {\n",
              "        text-align: right;\n",
              "    }\n",
              "</style>\n",
              "<table border=\"1\" class=\"dataframe\">\n",
              "  <thead>\n",
              "    <tr style=\"text-align: right;\">\n",
              "      <th></th>\n",
              "      <th>4* Pity Count</th>\n",
              "      <th>5* Pity Count</th>\n",
              "      <th>4* Pity</th>\n",
              "      <th>5* Pity</th>\n",
              "    </tr>\n",
              "  </thead>\n",
              "  <tbody>\n",
              "    <tr>\n",
              "      <th>0</th>\n",
              "      <td>1</td>\n",
              "      <td>1</td>\n",
              "      <td>0</td>\n",
              "      <td>0</td>\n",
              "    </tr>\n",
              "    <tr>\n",
              "      <th>1</th>\n",
              "      <td>2</td>\n",
              "      <td>2</td>\n",
              "      <td>0</td>\n",
              "      <td>0</td>\n",
              "    </tr>\n",
              "    <tr>\n",
              "      <th>2</th>\n",
              "      <td>3</td>\n",
              "      <td>3</td>\n",
              "      <td>0</td>\n",
              "      <td>0</td>\n",
              "    </tr>\n",
              "    <tr>\n",
              "      <th>3</th>\n",
              "      <td>4</td>\n",
              "      <td>4</td>\n",
              "      <td>0</td>\n",
              "      <td>0</td>\n",
              "    </tr>\n",
              "    <tr>\n",
              "      <th>4</th>\n",
              "      <td>5</td>\n",
              "      <td>5</td>\n",
              "      <td>0</td>\n",
              "      <td>0</td>\n",
              "    </tr>\n",
              "    <tr>\n",
              "      <th>5</th>\n",
              "      <td>6</td>\n",
              "      <td>6</td>\n",
              "      <td>0</td>\n",
              "      <td>0</td>\n",
              "    </tr>\n",
              "    <tr>\n",
              "      <th>6</th>\n",
              "      <td>7</td>\n",
              "      <td>7</td>\n",
              "      <td>0</td>\n",
              "      <td>0</td>\n",
              "    </tr>\n",
              "    <tr>\n",
              "      <th>7</th>\n",
              "      <td>8</td>\n",
              "      <td>8</td>\n",
              "      <td>0</td>\n",
              "      <td>0</td>\n",
              "    </tr>\n",
              "    <tr>\n",
              "      <th>8</th>\n",
              "      <td>9</td>\n",
              "      <td>9</td>\n",
              "      <td>0</td>\n",
              "      <td>0</td>\n",
              "    </tr>\n",
              "    <tr>\n",
              "      <th>9</th>\n",
              "      <td>0</td>\n",
              "      <td>10</td>\n",
              "      <td>0</td>\n",
              "      <td>0</td>\n",
              "    </tr>\n",
              "    <tr>\n",
              "      <th>10</th>\n",
              "      <td>1</td>\n",
              "      <td>11</td>\n",
              "      <td>1</td>\n",
              "      <td>0</td>\n",
              "    </tr>\n",
              "    <tr>\n",
              "      <th>11</th>\n",
              "      <td>2</td>\n",
              "      <td>12</td>\n",
              "      <td>1</td>\n",
              "      <td>0</td>\n",
              "    </tr>\n",
              "    <tr>\n",
              "      <th>12</th>\n",
              "      <td>3</td>\n",
              "      <td>13</td>\n",
              "      <td>1</td>\n",
              "      <td>0</td>\n",
              "    </tr>\n",
              "    <tr>\n",
              "      <th>13</th>\n",
              "      <td>4</td>\n",
              "      <td>14</td>\n",
              "      <td>1</td>\n",
              "      <td>0</td>\n",
              "    </tr>\n",
              "    <tr>\n",
              "      <th>14</th>\n",
              "      <td>5</td>\n",
              "      <td>15</td>\n",
              "      <td>1</td>\n",
              "      <td>0</td>\n",
              "    </tr>\n",
              "    <tr>\n",
              "      <th>15</th>\n",
              "      <td>6</td>\n",
              "      <td>16</td>\n",
              "      <td>1</td>\n",
              "      <td>0</td>\n",
              "    </tr>\n",
              "    <tr>\n",
              "      <th>16</th>\n",
              "      <td>7</td>\n",
              "      <td>17</td>\n",
              "      <td>1</td>\n",
              "      <td>0</td>\n",
              "    </tr>\n",
              "    <tr>\n",
              "      <th>17</th>\n",
              "      <td>8</td>\n",
              "      <td>18</td>\n",
              "      <td>1</td>\n",
              "      <td>0</td>\n",
              "    </tr>\n",
              "    <tr>\n",
              "      <th>18</th>\n",
              "      <td>9</td>\n",
              "      <td>19</td>\n",
              "      <td>1</td>\n",
              "      <td>0</td>\n",
              "    </tr>\n",
              "    <tr>\n",
              "      <th>19</th>\n",
              "      <td>0</td>\n",
              "      <td>20</td>\n",
              "      <td>1</td>\n",
              "      <td>0</td>\n",
              "    </tr>\n",
              "    <tr>\n",
              "      <th>20</th>\n",
              "      <td>1</td>\n",
              "      <td>21</td>\n",
              "      <td>0</td>\n",
              "      <td>0</td>\n",
              "    </tr>\n",
              "    <tr>\n",
              "      <th>21</th>\n",
              "      <td>2</td>\n",
              "      <td>22</td>\n",
              "      <td>0</td>\n",
              "      <td>0</td>\n",
              "    </tr>\n",
              "  </tbody>\n",
              "</table>\n",
              "</div>\n",
              "      <button class=\"colab-df-convert\" onclick=\"convertToInteractive('df-4b1618b4-0c90-4344-b1d8-ccd94ea3171b')\"\n",
              "              title=\"Convert this dataframe to an interactive table.\"\n",
              "              style=\"display:none;\">\n",
              "        \n",
              "  <svg xmlns=\"http://www.w3.org/2000/svg\" height=\"24px\"viewBox=\"0 0 24 24\"\n",
              "       width=\"24px\">\n",
              "    <path d=\"M0 0h24v24H0V0z\" fill=\"none\"/>\n",
              "    <path d=\"M18.56 5.44l.94 2.06.94-2.06 2.06-.94-2.06-.94-.94-2.06-.94 2.06-2.06.94zm-11 1L8.5 8.5l.94-2.06 2.06-.94-2.06-.94L8.5 2.5l-.94 2.06-2.06.94zm10 10l.94 2.06.94-2.06 2.06-.94-2.06-.94-.94-2.06-.94 2.06-2.06.94z\"/><path d=\"M17.41 7.96l-1.37-1.37c-.4-.4-.92-.59-1.43-.59-.52 0-1.04.2-1.43.59L10.3 9.45l-7.72 7.72c-.78.78-.78 2.05 0 2.83L4 21.41c.39.39.9.59 1.41.59.51 0 1.02-.2 1.41-.59l7.78-7.78 2.81-2.81c.8-.78.8-2.07 0-2.86zM5.41 20L4 18.59l7.72-7.72 1.47 1.35L5.41 20z\"/>\n",
              "  </svg>\n",
              "      </button>\n",
              "      \n",
              "  <style>\n",
              "    .colab-df-container {\n",
              "      display:flex;\n",
              "      flex-wrap:wrap;\n",
              "      gap: 12px;\n",
              "    }\n",
              "\n",
              "    .colab-df-convert {\n",
              "      background-color: #E8F0FE;\n",
              "      border: none;\n",
              "      border-radius: 50%;\n",
              "      cursor: pointer;\n",
              "      display: none;\n",
              "      fill: #1967D2;\n",
              "      height: 32px;\n",
              "      padding: 0 0 0 0;\n",
              "      width: 32px;\n",
              "    }\n",
              "\n",
              "    .colab-df-convert:hover {\n",
              "      background-color: #E2EBFA;\n",
              "      box-shadow: 0px 1px 2px rgba(60, 64, 67, 0.3), 0px 1px 3px 1px rgba(60, 64, 67, 0.15);\n",
              "      fill: #174EA6;\n",
              "    }\n",
              "\n",
              "    [theme=dark] .colab-df-convert {\n",
              "      background-color: #3B4455;\n",
              "      fill: #D2E3FC;\n",
              "    }\n",
              "\n",
              "    [theme=dark] .colab-df-convert:hover {\n",
              "      background-color: #434B5C;\n",
              "      box-shadow: 0px 1px 3px 1px rgba(0, 0, 0, 0.15);\n",
              "      filter: drop-shadow(0px 1px 2px rgba(0, 0, 0, 0.3));\n",
              "      fill: #FFFFFF;\n",
              "    }\n",
              "  </style>\n",
              "\n",
              "      <script>\n",
              "        const buttonEl =\n",
              "          document.querySelector('#df-4b1618b4-0c90-4344-b1d8-ccd94ea3171b button.colab-df-convert');\n",
              "        buttonEl.style.display =\n",
              "          google.colab.kernel.accessAllowed ? 'block' : 'none';\n",
              "\n",
              "        async function convertToInteractive(key) {\n",
              "          const element = document.querySelector('#df-4b1618b4-0c90-4344-b1d8-ccd94ea3171b');\n",
              "          const dataTable =\n",
              "            await google.colab.kernel.invokeFunction('convertToInteractive',\n",
              "                                                     [key], {});\n",
              "          if (!dataTable) return;\n",
              "\n",
              "          const docLinkHtml = 'Like what you see? Visit the ' +\n",
              "            '<a target=\"_blank\" href=https://colab.research.google.com/notebooks/data_table.ipynb>data table notebook</a>'\n",
              "            + ' to learn more about interactive tables.';\n",
              "          element.innerHTML = '';\n",
              "          dataTable['output_type'] = 'display_data';\n",
              "          await google.colab.output.renderOutput(dataTable, element);\n",
              "          const docLink = document.createElement('div');\n",
              "          docLink.innerHTML = docLinkHtml;\n",
              "          element.appendChild(docLink);\n",
              "        }\n",
              "      </script>\n",
              "    </div>\n",
              "  </div>\n",
              "  "
            ]
          },
          "metadata": {},
          "execution_count": 39
        }
      ]
    },
    {
      "cell_type": "code",
      "source": [
        "real_Y = revise_names(real_data) \n",
        "#Y = X[X.columns[2]] #Name\n",
        "real_X = transform_data(real_data)\n",
        "real_X.head(12)"
      ],
      "metadata": {
        "id": "E11Qj9b3_iG-",
        "colab": {
          "base_uri": "https://localhost:8080/",
          "height": 426
        },
        "outputId": "e9a0e95c-035f-40b7-ad73-de46a92395c6"
      },
      "execution_count": null,
      "outputs": [
        {
          "output_type": "execute_result",
          "data": {
            "text/plain": [
              "    4* Pity Count  5* Pity Count  4* Pity  5* Pity\n",
              "0               0              0        0        0\n",
              "1               1              1        0        0\n",
              "2               0              2        0        0\n",
              "3               1              3        0        0\n",
              "4               2              4        0        0\n",
              "5               3              5        0        0\n",
              "6               4              6        0        0\n",
              "7               5              7        0        0\n",
              "8               6              8        0        0\n",
              "9               7              9        0        0\n",
              "10              8             10        0        0\n",
              "11              0             11        1        0"
            ],
            "text/html": [
              "\n",
              "  <div id=\"df-787ea9af-d4d2-4c5d-bb38-036525db40f5\">\n",
              "    <div class=\"colab-df-container\">\n",
              "      <div>\n",
              "<style scoped>\n",
              "    .dataframe tbody tr th:only-of-type {\n",
              "        vertical-align: middle;\n",
              "    }\n",
              "\n",
              "    .dataframe tbody tr th {\n",
              "        vertical-align: top;\n",
              "    }\n",
              "\n",
              "    .dataframe thead th {\n",
              "        text-align: right;\n",
              "    }\n",
              "</style>\n",
              "<table border=\"1\" class=\"dataframe\">\n",
              "  <thead>\n",
              "    <tr style=\"text-align: right;\">\n",
              "      <th></th>\n",
              "      <th>4* Pity Count</th>\n",
              "      <th>5* Pity Count</th>\n",
              "      <th>4* Pity</th>\n",
              "      <th>5* Pity</th>\n",
              "    </tr>\n",
              "  </thead>\n",
              "  <tbody>\n",
              "    <tr>\n",
              "      <th>0</th>\n",
              "      <td>0</td>\n",
              "      <td>0</td>\n",
              "      <td>0</td>\n",
              "      <td>0</td>\n",
              "    </tr>\n",
              "    <tr>\n",
              "      <th>1</th>\n",
              "      <td>1</td>\n",
              "      <td>1</td>\n",
              "      <td>0</td>\n",
              "      <td>0</td>\n",
              "    </tr>\n",
              "    <tr>\n",
              "      <th>2</th>\n",
              "      <td>0</td>\n",
              "      <td>2</td>\n",
              "      <td>0</td>\n",
              "      <td>0</td>\n",
              "    </tr>\n",
              "    <tr>\n",
              "      <th>3</th>\n",
              "      <td>1</td>\n",
              "      <td>3</td>\n",
              "      <td>0</td>\n",
              "      <td>0</td>\n",
              "    </tr>\n",
              "    <tr>\n",
              "      <th>4</th>\n",
              "      <td>2</td>\n",
              "      <td>4</td>\n",
              "      <td>0</td>\n",
              "      <td>0</td>\n",
              "    </tr>\n",
              "    <tr>\n",
              "      <th>5</th>\n",
              "      <td>3</td>\n",
              "      <td>5</td>\n",
              "      <td>0</td>\n",
              "      <td>0</td>\n",
              "    </tr>\n",
              "    <tr>\n",
              "      <th>6</th>\n",
              "      <td>4</td>\n",
              "      <td>6</td>\n",
              "      <td>0</td>\n",
              "      <td>0</td>\n",
              "    </tr>\n",
              "    <tr>\n",
              "      <th>7</th>\n",
              "      <td>5</td>\n",
              "      <td>7</td>\n",
              "      <td>0</td>\n",
              "      <td>0</td>\n",
              "    </tr>\n",
              "    <tr>\n",
              "      <th>8</th>\n",
              "      <td>6</td>\n",
              "      <td>8</td>\n",
              "      <td>0</td>\n",
              "      <td>0</td>\n",
              "    </tr>\n",
              "    <tr>\n",
              "      <th>9</th>\n",
              "      <td>7</td>\n",
              "      <td>9</td>\n",
              "      <td>0</td>\n",
              "      <td>0</td>\n",
              "    </tr>\n",
              "    <tr>\n",
              "      <th>10</th>\n",
              "      <td>8</td>\n",
              "      <td>10</td>\n",
              "      <td>0</td>\n",
              "      <td>0</td>\n",
              "    </tr>\n",
              "    <tr>\n",
              "      <th>11</th>\n",
              "      <td>0</td>\n",
              "      <td>11</td>\n",
              "      <td>1</td>\n",
              "      <td>0</td>\n",
              "    </tr>\n",
              "  </tbody>\n",
              "</table>\n",
              "</div>\n",
              "      <button class=\"colab-df-convert\" onclick=\"convertToInteractive('df-787ea9af-d4d2-4c5d-bb38-036525db40f5')\"\n",
              "              title=\"Convert this dataframe to an interactive table.\"\n",
              "              style=\"display:none;\">\n",
              "        \n",
              "  <svg xmlns=\"http://www.w3.org/2000/svg\" height=\"24px\"viewBox=\"0 0 24 24\"\n",
              "       width=\"24px\">\n",
              "    <path d=\"M0 0h24v24H0V0z\" fill=\"none\"/>\n",
              "    <path d=\"M18.56 5.44l.94 2.06.94-2.06 2.06-.94-2.06-.94-.94-2.06-.94 2.06-2.06.94zm-11 1L8.5 8.5l.94-2.06 2.06-.94-2.06-.94L8.5 2.5l-.94 2.06-2.06.94zm10 10l.94 2.06.94-2.06 2.06-.94-2.06-.94-.94-2.06-.94 2.06-2.06.94z\"/><path d=\"M17.41 7.96l-1.37-1.37c-.4-.4-.92-.59-1.43-.59-.52 0-1.04.2-1.43.59L10.3 9.45l-7.72 7.72c-.78.78-.78 2.05 0 2.83L4 21.41c.39.39.9.59 1.41.59.51 0 1.02-.2 1.41-.59l7.78-7.78 2.81-2.81c.8-.78.8-2.07 0-2.86zM5.41 20L4 18.59l7.72-7.72 1.47 1.35L5.41 20z\"/>\n",
              "  </svg>\n",
              "      </button>\n",
              "      \n",
              "  <style>\n",
              "    .colab-df-container {\n",
              "      display:flex;\n",
              "      flex-wrap:wrap;\n",
              "      gap: 12px;\n",
              "    }\n",
              "\n",
              "    .colab-df-convert {\n",
              "      background-color: #E8F0FE;\n",
              "      border: none;\n",
              "      border-radius: 50%;\n",
              "      cursor: pointer;\n",
              "      display: none;\n",
              "      fill: #1967D2;\n",
              "      height: 32px;\n",
              "      padding: 0 0 0 0;\n",
              "      width: 32px;\n",
              "    }\n",
              "\n",
              "    .colab-df-convert:hover {\n",
              "      background-color: #E2EBFA;\n",
              "      box-shadow: 0px 1px 2px rgba(60, 64, 67, 0.3), 0px 1px 3px 1px rgba(60, 64, 67, 0.15);\n",
              "      fill: #174EA6;\n",
              "    }\n",
              "\n",
              "    [theme=dark] .colab-df-convert {\n",
              "      background-color: #3B4455;\n",
              "      fill: #D2E3FC;\n",
              "    }\n",
              "\n",
              "    [theme=dark] .colab-df-convert:hover {\n",
              "      background-color: #434B5C;\n",
              "      box-shadow: 0px 1px 3px 1px rgba(0, 0, 0, 0.15);\n",
              "      filter: drop-shadow(0px 1px 2px rgba(0, 0, 0, 0.3));\n",
              "      fill: #FFFFFF;\n",
              "    }\n",
              "  </style>\n",
              "\n",
              "      <script>\n",
              "        const buttonEl =\n",
              "          document.querySelector('#df-787ea9af-d4d2-4c5d-bb38-036525db40f5 button.colab-df-convert');\n",
              "        buttonEl.style.display =\n",
              "          google.colab.kernel.accessAllowed ? 'block' : 'none';\n",
              "\n",
              "        async function convertToInteractive(key) {\n",
              "          const element = document.querySelector('#df-787ea9af-d4d2-4c5d-bb38-036525db40f5');\n",
              "          const dataTable =\n",
              "            await google.colab.kernel.invokeFunction('convertToInteractive',\n",
              "                                                     [key], {});\n",
              "          if (!dataTable) return;\n",
              "\n",
              "          const docLinkHtml = 'Like what you see? Visit the ' +\n",
              "            '<a target=\"_blank\" href=https://colab.research.google.com/notebooks/data_table.ipynb>data table notebook</a>'\n",
              "            + ' to learn more about interactive tables.';\n",
              "          element.innerHTML = '';\n",
              "          dataTable['output_type'] = 'display_data';\n",
              "          await google.colab.output.renderOutput(dataTable, element);\n",
              "          const docLink = document.createElement('div');\n",
              "          docLink.innerHTML = docLinkHtml;\n",
              "          element.appendChild(docLink);\n",
              "        }\n",
              "      </script>\n",
              "    </div>\n",
              "  </div>\n",
              "  "
            ]
          },
          "metadata": {},
          "execution_count": 40
        }
      ]
    },
    {
      "cell_type": "code",
      "source": [
        "X1_train, X1_test, Y1_train, Y1_test = train_test_split(sim_X,sim_Y,test_size=0.2, shuffle=False)\n",
        "X2_train, X2_test, Y2_train, Y2_test = train_test_split(real_X,real_Y,test_size=0.2, shuffle=False)"
      ],
      "metadata": {
        "id": "Du0x7vshVCMG"
      },
      "execution_count": null,
      "outputs": []
    },
    {
      "cell_type": "markdown",
      "source": [
        "### scikit-learn Models"
      ],
      "metadata": {
        "id": "5d03-XtidMvv"
      }
    },
    {
      "cell_type": "code",
      "source": [
        "def score_model(model,name):\n",
        "  scores = [model.score(X1_test, Y1_test), model.score(X2_test, Y2_test)]\n",
        "  print(name+\" average score: \"+str(round((scores[0]+scores[1])/2*100, 2))+'%')\n",
        "  print(\"-Test 1: \"+str(round(scores[0]*100, 2))+'%')\n",
        "  print(\"-Test 2: \"+str(round(scores[1]*100, 2))+'%')"
      ],
      "metadata": {
        "id": "5Q4wnDShBIlC"
      },
      "execution_count": null,
      "outputs": []
    },
    {
      "cell_type": "markdown",
      "source": [
        "Linear Regression - Wrong model for this type of problem, requires reformatting pandas table"
      ],
      "metadata": {
        "id": "u95L0qjgS8tQ"
      }
    },
    {
      "cell_type": "code",
      "source": [
        "lr_model_sim = LinearRegression().fit(X1_train,Y1_train)\n",
        "lr_model_real = LinearRegression().fit(X2_train,Y2_train)"
      ],
      "metadata": {
        "id": "fLg8MN0xS8Qj"
      },
      "execution_count": null,
      "outputs": []
    },
    {
      "cell_type": "code",
      "source": [
        "score_model(lr_model_sim, \"Linear Regression (simulated data)\")\n",
        "print()\n",
        "score_model(lr_model_real,\"Linear Regression (real data)\")"
      ],
      "metadata": {
        "id": "vDS8V0UNTLG4",
        "colab": {
          "base_uri": "https://localhost:8080/"
        },
        "outputId": "1dec6004-8c4d-45a8-ba09-34c3d02a88d1"
      },
      "execution_count": null,
      "outputs": [
        {
          "output_type": "stream",
          "name": "stdout",
          "text": [
            "Linear Regression (simulated data) average score: -14.08%\n",
            "-Test 1: 24.86%\n",
            "-Test 2: -53.02%\n",
            "\n",
            "Linear Regression (real data) average score: -14.37%\n",
            "-Test 1: -45.58%\n",
            "-Test 2: 16.85%\n"
          ]
        }
      ]
    },
    {
      "cell_type": "markdown",
      "source": [
        "Decision Tree"
      ],
      "metadata": {
        "id": "Z521bxeiWXox"
      }
    },
    {
      "cell_type": "code",
      "source": [
        "dtc_model_sim = DecisionTreeClassifier().fit(X1_train,Y1_train)\n",
        "dtc_model_real = DecisionTreeClassifier().fit(X2_train,Y2_train)"
      ],
      "metadata": {
        "id": "9WL_RlIKWRpu"
      },
      "execution_count": null,
      "outputs": []
    },
    {
      "cell_type": "code",
      "source": [
        "score_model(dtc_model_sim,\"Decision Tree Classifier (simualted data)\")  #Failed: mono-3_star\n",
        "print()\n",
        "score_model(dtc_model_real,\"Decision Tree Classifier (real data)\")  #Working model"
      ],
      "metadata": {
        "id": "fdwxK93MWaLE",
        "colab": {
          "base_uri": "https://localhost:8080/"
        },
        "outputId": "eefbdecb-d493-4465-f683-f784b1b86ecd"
      },
      "execution_count": null,
      "outputs": [
        {
          "output_type": "stream",
          "name": "stdout",
          "text": [
            "Decision Tree Classifier (simualted data) average score: 83.35%\n",
            "-Test 1: 95.0%\n",
            "-Test 2: 71.7%\n",
            "\n",
            "Decision Tree Classifier (real data) average score: 73.73%\n",
            "-Test 1: 64.44%\n",
            "-Test 2: 83.02%\n"
          ]
        }
      ]
    },
    {
      "cell_type": "markdown",
      "source": [
        "#### Roll with Model"
      ],
      "metadata": {
        "id": "5MLQyEGZWrYL"
      }
    },
    {
      "cell_type": "code",
      "source": [
        "X1_test.head()"
      ],
      "metadata": {
        "id": "CofOWRw9EmC8",
        "colab": {
          "base_uri": "https://localhost:8080/",
          "height": 206
        },
        "outputId": "316d7564-6575-486b-c15a-b905e72c58c2"
      },
      "execution_count": null,
      "outputs": [
        {
          "output_type": "execute_result",
          "data": {
            "text/plain": [
              "      4* Pity Count  5* Pity Count  4* Pity  5* Pity\n",
              "1440              7             41        0        0\n",
              "1441              8             42        0        0\n",
              "1442              9             43        0        0\n",
              "1443              0             44        0        0\n",
              "1444              1             45        1        0"
            ],
            "text/html": [
              "\n",
              "  <div id=\"df-23448ef3-69e4-4178-9b37-e06b558cfde7\">\n",
              "    <div class=\"colab-df-container\">\n",
              "      <div>\n",
              "<style scoped>\n",
              "    .dataframe tbody tr th:only-of-type {\n",
              "        vertical-align: middle;\n",
              "    }\n",
              "\n",
              "    .dataframe tbody tr th {\n",
              "        vertical-align: top;\n",
              "    }\n",
              "\n",
              "    .dataframe thead th {\n",
              "        text-align: right;\n",
              "    }\n",
              "</style>\n",
              "<table border=\"1\" class=\"dataframe\">\n",
              "  <thead>\n",
              "    <tr style=\"text-align: right;\">\n",
              "      <th></th>\n",
              "      <th>4* Pity Count</th>\n",
              "      <th>5* Pity Count</th>\n",
              "      <th>4* Pity</th>\n",
              "      <th>5* Pity</th>\n",
              "    </tr>\n",
              "  </thead>\n",
              "  <tbody>\n",
              "    <tr>\n",
              "      <th>1440</th>\n",
              "      <td>7</td>\n",
              "      <td>41</td>\n",
              "      <td>0</td>\n",
              "      <td>0</td>\n",
              "    </tr>\n",
              "    <tr>\n",
              "      <th>1441</th>\n",
              "      <td>8</td>\n",
              "      <td>42</td>\n",
              "      <td>0</td>\n",
              "      <td>0</td>\n",
              "    </tr>\n",
              "    <tr>\n",
              "      <th>1442</th>\n",
              "      <td>9</td>\n",
              "      <td>43</td>\n",
              "      <td>0</td>\n",
              "      <td>0</td>\n",
              "    </tr>\n",
              "    <tr>\n",
              "      <th>1443</th>\n",
              "      <td>0</td>\n",
              "      <td>44</td>\n",
              "      <td>0</td>\n",
              "      <td>0</td>\n",
              "    </tr>\n",
              "    <tr>\n",
              "      <th>1444</th>\n",
              "      <td>1</td>\n",
              "      <td>45</td>\n",
              "      <td>1</td>\n",
              "      <td>0</td>\n",
              "    </tr>\n",
              "  </tbody>\n",
              "</table>\n",
              "</div>\n",
              "      <button class=\"colab-df-convert\" onclick=\"convertToInteractive('df-23448ef3-69e4-4178-9b37-e06b558cfde7')\"\n",
              "              title=\"Convert this dataframe to an interactive table.\"\n",
              "              style=\"display:none;\">\n",
              "        \n",
              "  <svg xmlns=\"http://www.w3.org/2000/svg\" height=\"24px\"viewBox=\"0 0 24 24\"\n",
              "       width=\"24px\">\n",
              "    <path d=\"M0 0h24v24H0V0z\" fill=\"none\"/>\n",
              "    <path d=\"M18.56 5.44l.94 2.06.94-2.06 2.06-.94-2.06-.94-.94-2.06-.94 2.06-2.06.94zm-11 1L8.5 8.5l.94-2.06 2.06-.94-2.06-.94L8.5 2.5l-.94 2.06-2.06.94zm10 10l.94 2.06.94-2.06 2.06-.94-2.06-.94-.94-2.06-.94 2.06-2.06.94z\"/><path d=\"M17.41 7.96l-1.37-1.37c-.4-.4-.92-.59-1.43-.59-.52 0-1.04.2-1.43.59L10.3 9.45l-7.72 7.72c-.78.78-.78 2.05 0 2.83L4 21.41c.39.39.9.59 1.41.59.51 0 1.02-.2 1.41-.59l7.78-7.78 2.81-2.81c.8-.78.8-2.07 0-2.86zM5.41 20L4 18.59l7.72-7.72 1.47 1.35L5.41 20z\"/>\n",
              "  </svg>\n",
              "      </button>\n",
              "      \n",
              "  <style>\n",
              "    .colab-df-container {\n",
              "      display:flex;\n",
              "      flex-wrap:wrap;\n",
              "      gap: 12px;\n",
              "    }\n",
              "\n",
              "    .colab-df-convert {\n",
              "      background-color: #E8F0FE;\n",
              "      border: none;\n",
              "      border-radius: 50%;\n",
              "      cursor: pointer;\n",
              "      display: none;\n",
              "      fill: #1967D2;\n",
              "      height: 32px;\n",
              "      padding: 0 0 0 0;\n",
              "      width: 32px;\n",
              "    }\n",
              "\n",
              "    .colab-df-convert:hover {\n",
              "      background-color: #E2EBFA;\n",
              "      box-shadow: 0px 1px 2px rgba(60, 64, 67, 0.3), 0px 1px 3px 1px rgba(60, 64, 67, 0.15);\n",
              "      fill: #174EA6;\n",
              "    }\n",
              "\n",
              "    [theme=dark] .colab-df-convert {\n",
              "      background-color: #3B4455;\n",
              "      fill: #D2E3FC;\n",
              "    }\n",
              "\n",
              "    [theme=dark] .colab-df-convert:hover {\n",
              "      background-color: #434B5C;\n",
              "      box-shadow: 0px 1px 3px 1px rgba(0, 0, 0, 0.15);\n",
              "      filter: drop-shadow(0px 1px 2px rgba(0, 0, 0, 0.3));\n",
              "      fill: #FFFFFF;\n",
              "    }\n",
              "  </style>\n",
              "\n",
              "      <script>\n",
              "        const buttonEl =\n",
              "          document.querySelector('#df-23448ef3-69e4-4178-9b37-e06b558cfde7 button.colab-df-convert');\n",
              "        buttonEl.style.display =\n",
              "          google.colab.kernel.accessAllowed ? 'block' : 'none';\n",
              "\n",
              "        async function convertToInteractive(key) {\n",
              "          const element = document.querySelector('#df-23448ef3-69e4-4178-9b37-e06b558cfde7');\n",
              "          const dataTable =\n",
              "            await google.colab.kernel.invokeFunction('convertToInteractive',\n",
              "                                                     [key], {});\n",
              "          if (!dataTable) return;\n",
              "\n",
              "          const docLinkHtml = 'Like what you see? Visit the ' +\n",
              "            '<a target=\"_blank\" href=https://colab.research.google.com/notebooks/data_table.ipynb>data table notebook</a>'\n",
              "            + ' to learn more about interactive tables.';\n",
              "          element.innerHTML = '';\n",
              "          dataTable['output_type'] = 'display_data';\n",
              "          await google.colab.output.renderOutput(dataTable, element);\n",
              "          const docLink = document.createElement('div');\n",
              "          docLink.innerHTML = docLinkHtml;\n",
              "          element.appendChild(docLink);\n",
              "        }\n",
              "      </script>\n",
              "    </div>\n",
              "  </div>\n",
              "  "
            ]
          },
          "metadata": {},
          "execution_count": 47
        }
      ]
    },
    {
      "cell_type": "code",
      "source": [
        "def roll_scikit_model(model):\n",
        "\n",
        "  global pity_count_5\n",
        "  global pity_count_4\n",
        "  global fail_5\n",
        "  global fail_4\n",
        "\n",
        "  #categories = [\"standard 3 star weapon\", \"standard 4 star weapons\", \"standard 4 star chars\", \"standard 5 star character\",  \"featured character\", \"promotional char\"]\n",
        "  prediction_category = model.predict(pd.DataFrame([[pity_count_4, pity_count_5, fail_4, fail_5]],columns=[\"4* Pity Count\",\"5* Pity Count\", \"4* Pity\",\"5* Pity\"]))[0]\n",
        "  print(categories[prediction_category])\n",
        "  pity_count_4 += 1\n",
        "  pity_count_5 += 1\n",
        "\n",
        "  if prediction_category == 1 or prediction_category == 2:\n",
        "    pity_count_4 = 0\n",
        "    fail_4 = True\n",
        "  elif prediction_category == 3:\n",
        "    pity_count_5 = 0\n",
        "    fail_5 = True\n",
        "  elif prediction_category == 4:\n",
        "    pity_count_4 = 0\n",
        "    fail_4 = False\n",
        "  elif prediction_category == 5:\n",
        "    pity_count_5 = 0\n",
        "    fail_5 = False\n",
        "  #else prediction_category == 0: pass"
      ],
      "metadata": {
        "id": "0jahWqI0WvZr"
      },
      "execution_count": null,
      "outputs": []
    },
    {
      "cell_type": "markdown",
      "source": [
        "#### Run Roll"
      ],
      "metadata": {
        "id": "jpaxhOqbmNMn"
      }
    },
    {
      "cell_type": "markdown",
      "source": [
        "Set variables"
      ],
      "metadata": {
        "id": "3c1bNV1Bn0GC"
      }
    },
    {
      "cell_type": "code",
      "source": [
        "pity_count_5 = 34 #Starts counting at 0\n",
        "pity_count_4 = 6\n",
        "fail_5 = False\n",
        "fail_4 = False"
      ],
      "metadata": {
        "id": "k0LaJIbSmKun"
      },
      "execution_count": null,
      "outputs": []
    },
    {
      "cell_type": "code",
      "source": [
        "roll_amount = 10\n",
        "for i in range(roll_amount):\n",
        "  roll_scikit_model(dtc_model_real)"
      ],
      "metadata": {
        "id": "JR6E0-LroXaQ",
        "colab": {
          "base_uri": "https://localhost:8080/"
        },
        "outputId": "cf734e74-8b27-4ea9-efd1-6c4c0aaeaa2a"
      },
      "execution_count": null,
      "outputs": [
        {
          "output_type": "stream",
          "name": "stdout",
          "text": [
            "standard 3 star weapon\n",
            "standard 3 star weapon\n",
            "featured character\n",
            "standard 3 star weapon\n",
            "standard 3 star weapon\n",
            "standard 3 star weapon\n",
            "standard 3 star weapon\n",
            "standard 3 star weapon\n",
            "standard 3 star weapon\n",
            "standard 3 star weapon\n"
          ]
        }
      ]
    },
    {
      "cell_type": "markdown",
      "source": [
        "### TensorFlow Models"
      ],
      "metadata": {
        "id": "7TShS6-QnysF"
      }
    },
    {
      "cell_type": "markdown",
      "source": [
        "DecisionTree and Regression models don't working. Using a One-to-Many Sequence Prediction model.\n",
        "\n",
        "Source: https://wandb.ai/ayush-thakur/dl-question-bank/reports/LSTM-RNN-in-Keras-Examples-of-One-to-Many-Many-to-One-Many-to-Many---VmlldzoyMDIzOTM"
      ],
      "metadata": {
        "id": "ZFRIgh8EdPog"
      }
    },
    {
      "cell_type": "markdown",
      "source": [
        "Define training data here:"
      ],
      "metadata": {
        "id": "zvrUpRdLwzYx"
      }
    },
    {
      "cell_type": "code",
      "source": [
        "#Define training data here:\n",
        "def revise_cat(Y_data):\n",
        "  revised_names = []\n",
        "  for cat in Y_data:\n",
        "    if cat == 0: revised_names.append(categories[0])\n",
        "    elif cat == 1: revised_names.append(categories[1])\n",
        "    elif cat == 2: revised_names.append(categories[2])\n",
        "    elif cat == 3: revised_names.append(categories[3])\n",
        "    elif cat == 4: revised_names.append(categories[4])\n",
        "    elif cat == 5: revised_names.append(categories[5])\n",
        "  return revised_names\n",
        "\n",
        "X = tf.convert_to_tensor(X2_train)\n",
        "Y = tf.convert_to_tensor(Y2_train)\n",
        "X_test = tf.convert_to_tensor(X2_test)\n",
        "Y_test = Y2_test"
      ],
      "metadata": {
        "id": "kmhvb0U7iQvT"
      },
      "execution_count": null,
      "outputs": []
    },
    {
      "cell_type": "markdown",
      "source": [
        "#### Train models"
      ],
      "metadata": {
        "id": "idh3GJ2NRqBf"
      }
    },
    {
      "cell_type": "code",
      "source": [
        "model = Sequential()\n",
        "model.add(LSTM(50, activation='relu', input_shape=(4,)))\n",
        "model.add(Dense(2))\n",
        "\n",
        "model.compile(optimizer='adam', loss='mse')\n",
        "\n",
        "#wandb.init(entity='ayush-thakur', project='dl-question-bank')\n",
        "\n",
        "model.fit(X, Y, epochs=1000, validation_split=0.2)\n"
      ],
      "metadata": {
        "id": "m0skCv1tWfXe",
        "colab": {
          "base_uri": "https://localhost:8080/",
          "height": 380
        },
        "outputId": "f517f45f-df54-4a1e-f618-3e224379f615"
      },
      "execution_count": null,
      "outputs": [
        {
          "output_type": "error",
          "ename": "ValueError",
          "evalue": "ignored",
          "traceback": [
            "\u001b[0;31m---------------------------------------------------------------------------\u001b[0m",
            "\u001b[0;31mValueError\u001b[0m                                Traceback (most recent call last)",
            "\u001b[0;32m<ipython-input-52-c4faa8b053db>\u001b[0m in \u001b[0;36m<module>\u001b[0;34m\u001b[0m\n\u001b[1;32m      1\u001b[0m \u001b[0mmodel\u001b[0m \u001b[0;34m=\u001b[0m \u001b[0mSequential\u001b[0m\u001b[0;34m(\u001b[0m\u001b[0;34m)\u001b[0m\u001b[0;34m\u001b[0m\u001b[0;34m\u001b[0m\u001b[0m\n\u001b[0;32m----> 2\u001b[0;31m \u001b[0mmodel\u001b[0m\u001b[0;34m.\u001b[0m\u001b[0madd\u001b[0m\u001b[0;34m(\u001b[0m\u001b[0mLSTM\u001b[0m\u001b[0;34m(\u001b[0m\u001b[0;36m50\u001b[0m\u001b[0;34m,\u001b[0m \u001b[0mactivation\u001b[0m\u001b[0;34m=\u001b[0m\u001b[0;34m'relu'\u001b[0m\u001b[0;34m,\u001b[0m \u001b[0minput_shape\u001b[0m\u001b[0;34m=\u001b[0m\u001b[0;34m(\u001b[0m\u001b[0;36m4\u001b[0m\u001b[0;34m,\u001b[0m\u001b[0;34m)\u001b[0m\u001b[0;34m)\u001b[0m\u001b[0;34m)\u001b[0m\u001b[0;34m\u001b[0m\u001b[0;34m\u001b[0m\u001b[0m\n\u001b[0m\u001b[1;32m      3\u001b[0m \u001b[0mmodel\u001b[0m\u001b[0;34m.\u001b[0m\u001b[0madd\u001b[0m\u001b[0;34m(\u001b[0m\u001b[0mDense\u001b[0m\u001b[0;34m(\u001b[0m\u001b[0;36m2\u001b[0m\u001b[0;34m)\u001b[0m\u001b[0;34m)\u001b[0m\u001b[0;34m\u001b[0m\u001b[0;34m\u001b[0m\u001b[0m\n\u001b[1;32m      4\u001b[0m \u001b[0;34m\u001b[0m\u001b[0m\n\u001b[1;32m      5\u001b[0m \u001b[0mmodel\u001b[0m\u001b[0;34m.\u001b[0m\u001b[0mcompile\u001b[0m\u001b[0;34m(\u001b[0m\u001b[0moptimizer\u001b[0m\u001b[0;34m=\u001b[0m\u001b[0;34m'adam'\u001b[0m\u001b[0;34m,\u001b[0m \u001b[0mloss\u001b[0m\u001b[0;34m=\u001b[0m\u001b[0;34m'mse'\u001b[0m\u001b[0;34m)\u001b[0m\u001b[0;34m\u001b[0m\u001b[0;34m\u001b[0m\u001b[0m\n",
            "\u001b[0;32m/usr/local/lib/python3.7/dist-packages/tensorflow/python/training/tracking/base.py\u001b[0m in \u001b[0;36m_method_wrapper\u001b[0;34m(self, *args, **kwargs)\u001b[0m\n\u001b[1;32m    585\u001b[0m     \u001b[0mself\u001b[0m\u001b[0;34m.\u001b[0m\u001b[0m_self_setattr_tracking\u001b[0m \u001b[0;34m=\u001b[0m \u001b[0;32mFalse\u001b[0m  \u001b[0;31m# pylint: disable=protected-access\u001b[0m\u001b[0;34m\u001b[0m\u001b[0;34m\u001b[0m\u001b[0m\n\u001b[1;32m    586\u001b[0m     \u001b[0;32mtry\u001b[0m\u001b[0;34m:\u001b[0m\u001b[0;34m\u001b[0m\u001b[0;34m\u001b[0m\u001b[0m\n\u001b[0;32m--> 587\u001b[0;31m       \u001b[0mresult\u001b[0m \u001b[0;34m=\u001b[0m \u001b[0mmethod\u001b[0m\u001b[0;34m(\u001b[0m\u001b[0mself\u001b[0m\u001b[0;34m,\u001b[0m \u001b[0;34m*\u001b[0m\u001b[0margs\u001b[0m\u001b[0;34m,\u001b[0m \u001b[0;34m**\u001b[0m\u001b[0mkwargs\u001b[0m\u001b[0;34m)\u001b[0m\u001b[0;34m\u001b[0m\u001b[0;34m\u001b[0m\u001b[0m\n\u001b[0m\u001b[1;32m    588\u001b[0m     \u001b[0;32mfinally\u001b[0m\u001b[0;34m:\u001b[0m\u001b[0;34m\u001b[0m\u001b[0;34m\u001b[0m\u001b[0m\n\u001b[1;32m    589\u001b[0m       \u001b[0mself\u001b[0m\u001b[0;34m.\u001b[0m\u001b[0m_self_setattr_tracking\u001b[0m \u001b[0;34m=\u001b[0m \u001b[0mprevious_value\u001b[0m  \u001b[0;31m# pylint: disable=protected-access\u001b[0m\u001b[0;34m\u001b[0m\u001b[0;34m\u001b[0m\u001b[0m\n",
            "\u001b[0;32m/usr/local/lib/python3.7/dist-packages/keras/utils/traceback_utils.py\u001b[0m in \u001b[0;36merror_handler\u001b[0;34m(*args, **kwargs)\u001b[0m\n\u001b[1;32m     65\u001b[0m     \u001b[0;32mexcept\u001b[0m \u001b[0mException\u001b[0m \u001b[0;32mas\u001b[0m \u001b[0me\u001b[0m\u001b[0;34m:\u001b[0m  \u001b[0;31m# pylint: disable=broad-except\u001b[0m\u001b[0;34m\u001b[0m\u001b[0;34m\u001b[0m\u001b[0m\n\u001b[1;32m     66\u001b[0m       \u001b[0mfiltered_tb\u001b[0m \u001b[0;34m=\u001b[0m \u001b[0m_process_traceback_frames\u001b[0m\u001b[0;34m(\u001b[0m\u001b[0me\u001b[0m\u001b[0;34m.\u001b[0m\u001b[0m__traceback__\u001b[0m\u001b[0;34m)\u001b[0m\u001b[0;34m\u001b[0m\u001b[0;34m\u001b[0m\u001b[0m\n\u001b[0;32m---> 67\u001b[0;31m       \u001b[0;32mraise\u001b[0m \u001b[0me\u001b[0m\u001b[0;34m.\u001b[0m\u001b[0mwith_traceback\u001b[0m\u001b[0;34m(\u001b[0m\u001b[0mfiltered_tb\u001b[0m\u001b[0;34m)\u001b[0m \u001b[0;32mfrom\u001b[0m \u001b[0;32mNone\u001b[0m\u001b[0;34m\u001b[0m\u001b[0;34m\u001b[0m\u001b[0m\n\u001b[0m\u001b[1;32m     68\u001b[0m     \u001b[0;32mfinally\u001b[0m\u001b[0;34m:\u001b[0m\u001b[0;34m\u001b[0m\u001b[0;34m\u001b[0m\u001b[0m\n\u001b[1;32m     69\u001b[0m       \u001b[0;32mdel\u001b[0m \u001b[0mfiltered_tb\u001b[0m\u001b[0;34m\u001b[0m\u001b[0;34m\u001b[0m\u001b[0m\n",
            "\u001b[0;32m/usr/local/lib/python3.7/dist-packages/keras/engine/input_spec.py\u001b[0m in \u001b[0;36massert_input_compatibility\u001b[0;34m(input_spec, inputs, layer_name)\u001b[0m\n\u001b[1;32m    212\u001b[0m       \u001b[0mndim\u001b[0m \u001b[0;34m=\u001b[0m \u001b[0mshape\u001b[0m\u001b[0;34m.\u001b[0m\u001b[0mrank\u001b[0m\u001b[0;34m\u001b[0m\u001b[0;34m\u001b[0m\u001b[0m\n\u001b[1;32m    213\u001b[0m       \u001b[0;32mif\u001b[0m \u001b[0mndim\u001b[0m \u001b[0;34m!=\u001b[0m \u001b[0mspec\u001b[0m\u001b[0;34m.\u001b[0m\u001b[0mndim\u001b[0m\u001b[0;34m:\u001b[0m\u001b[0;34m\u001b[0m\u001b[0;34m\u001b[0m\u001b[0m\n\u001b[0;32m--> 214\u001b[0;31m         raise ValueError(f'Input {input_index} of layer \"{layer_name}\" '\n\u001b[0m\u001b[1;32m    215\u001b[0m                          \u001b[0;34m'is incompatible with the layer: '\u001b[0m\u001b[0;34m\u001b[0m\u001b[0;34m\u001b[0m\u001b[0m\n\u001b[1;32m    216\u001b[0m                          \u001b[0;34mf'expected ndim={spec.ndim}, found ndim={ndim}. '\u001b[0m\u001b[0;34m\u001b[0m\u001b[0;34m\u001b[0m\u001b[0m\n",
            "\u001b[0;31mValueError\u001b[0m: Input 0 of layer \"lstm\" is incompatible with the layer: expected ndim=3, found ndim=2. Full shape received: (None, 4)"
          ]
        }
      ]
    },
    {
      "cell_type": "markdown",
      "source": [
        "Simple MLP"
      ],
      "metadata": {
        "id": "ZZ5vglwPnqD3"
      }
    },
    {
      "cell_type": "code",
      "source": [
        "MLP = Sequential()\n",
        "MLP.add(keras.layers.Input(shape=(4,)))\n",
        "MLP.add(keras.layers.Dense(400, activation=\"relu\"))\n",
        "MLP.add(keras.layers.Dense(150, activation=\"relu\"))\n",
        "MLP.add(keras.layers.Dense(50, activation=\"sigmoid\"))\n",
        "MLP.add(keras.layers.Dense(1, activation='sigmoid'))"
      ],
      "metadata": {
        "id": "To6Vil9Und6_"
      },
      "execution_count": null,
      "outputs": []
    },
    {
      "cell_type": "code",
      "source": [
        "MLP.compile(optimizer='adam', loss='categorical_crossentropy', metrics=[\"accuracy\"])\n",
        "MLP.fit(X, Y, epochs=50, validation_split=0.2, shuffle=False)"
      ],
      "metadata": {
        "id": "hvBeD9eTwI6E"
      },
      "execution_count": null,
      "outputs": []
    },
    {
      "cell_type": "markdown",
      "source": [
        "#### Score model"
      ],
      "metadata": {
        "id": "iNE_6xcLRi47"
      }
    },
    {
      "cell_type": "code",
      "source": [
        "def score_tf_model(model):\n",
        "  score = 0\n",
        "  i = 0\n",
        "  mono = True\n",
        "  print(model.predict(X_test).argmax(axis=-1))\n",
        "  for prediction in model.predict(X_test):\n",
        "    #print(categories[int(prediction)]+\" \"+str(Y_test[i]))\n",
        "    #print(prediction)\n",
        "    if int(prediction) != 0: mono = False\n",
        "    if int(prediction) == Y_test[i]: score += 1\n",
        "    i+=1\n",
        "  score /= len(X_test)\n",
        "  if mono: print(\"Model predicts all 0!\")\n",
        "  else: print(\"Accuracy: \"+str(round(score*100, 2))+\"%\")\n",
        "  return score\n",
        "#print(\"Model Accuracy: \"+str(round(score*100, 2))+\"%\")"
      ],
      "metadata": {
        "id": "mbBzOBmaXEVd"
      },
      "execution_count": null,
      "outputs": []
    },
    {
      "cell_type": "code",
      "source": [
        "score_tf_model(MLP)\n",
        "pass"
      ],
      "metadata": {
        "id": "80xDn8O6bMa1",
        "colab": {
          "base_uri": "https://localhost:8080/"
        },
        "outputId": "2f310863-c2f5-4309-d093-639b9da59f5d"
      },
      "execution_count": null,
      "outputs": [
        {
          "output_type": "stream",
          "name": "stdout",
          "text": [
            "2/2 [==============================] - 0s 8ms/step\n",
            "[0 0 0 0 0 0 0 0 0 0 0 0 0 0 0 0 0 0 0 0 0 0 0 0 0 0 0 0 0 0 0 0 0 0 0 0 0\n",
            " 0 0 0 0 0 0 0 0 0 0 0 0 0 0 0 0]\n",
            "2/2 [==============================] - 0s 7ms/step\n",
            "Model predicts all 0!\n"
          ]
        }
      ]
    },
    {
      "cell_type": "code",
      "source": [],
      "metadata": {
        "id": "q8nXcJMFSws9"
      },
      "execution_count": null,
      "outputs": []
    }
  ]
}